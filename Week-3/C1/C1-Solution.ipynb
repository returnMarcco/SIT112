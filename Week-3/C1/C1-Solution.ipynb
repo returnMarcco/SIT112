{
 "cells": [
  {
   "cell_type": "markdown",
   "metadata": {
    "tags": []
   },
   "source": [
    "# **Task C1** \n",
    "## Analyzing the Avocado Data\n",
    "\n",
    "##### This task uses the avocado dataset. The dataset contains historical data on avocado prices and sales volume in multiple U.S. markets. One of the columns in this dataset, Unnamed: 0, contains sequential numbers that are irrelevant to analyzing this data. Three of the other columns contain sales for PLU (price look-up) codes 4046, 4225, and 4770. These columns will not be used in this task. If you review the data, you’ll see that some of the regions overlap. For example, one of the regions is the entire U.S., and all of the other regions are parts of the U.S. Because of that, you would need to review this data carefully before determining the best way to analyze it. For the purposes of this task though, the overlapping regions won’t be taken into consideration.\n",
    "\n",
    "##### https://www.kaggle.com/neuromusic/avocado-prices\n",
    "\n",
    "<img src=\"avocado-logo.png\" alt=\"SIT112 Avocado!\" width=\"1800\" height=\"200\">\n",
    "\n",
    "\n"
   ]
  },
  {
   "cell_type": "markdown",
   "metadata": {},
   "source": [
    "### A. Instructions\n",
    "\n",
    "1. Make sure you have completed Task P1 before working on this task. \n",
    "2. Complete the task based on the comments and hints provided in the following sections.   \n",
    "3. Complete the TaskCompletionReport from. \n",
    "4. Before submission, please make sure you have executed all the cells in your jupyter notebook without any error; otherwise, your submission may not be flagged as complete. \n",
    "5. Submit (1) the TaskCompletionReport as a \"PDF\" file and (2) your solution (code) as an \"ipynb\" file (do not zip/combine them). You can do this by the end of Week 12, but feedback will only be provided for submissions received by 11 AM on the due date. <font color=\"red\">Please do not include the dataset in your submission. </font>\n",
    "6. The workshops are the primary venue for you to seek help if you need any clarification/assitance. The tutors are there to help you complete and submit the tasks. Please avoid emailing your code or screenshots to the tutors outside workshop hours. \n",
    "7. Consider using online resources such as ChatGPT to strenghten your undertanding of the task. \n",
    "\n",
    "Good luck :)"
   ]
  },
  {
   "cell_type": "markdown",
   "metadata": {},
   "source": [
    "### B. Write Python code that performs (answers) the following operations (questions) "
   ]
  },
  {
   "cell_type": "code",
   "metadata": {
    "tags": [],
    "ExecuteTime": {
     "end_time": "2024-08-11T07:47:32.827151Z",
     "start_time": "2024-08-11T07:47:32.824073Z"
    }
   },
   "source": [
    "import pandas as pd"
   ],
   "outputs": [],
   "execution_count": 4
  },
  {
   "cell_type": "markdown",
   "metadata": {},
   "source": [
    "##### 1. Read the data from the CSV file into a DataFrame."
   ]
  },
  {
   "cell_type": "code",
   "metadata": {
    "ExecuteTime": {
     "end_time": "2024-08-11T07:47:32.887856Z",
     "start_time": "2024-08-11T07:47:32.847396Z"
    }
   },
   "source": [
    "# write your code here\n",
    "data = pd.read_csv('avocado.csv')"
   ],
   "outputs": [],
   "execution_count": 5
  },
  {
   "cell_type": "markdown",
   "metadata": {},
   "source": [
    "##### 2. Task: Multiply the Total Volume and AveragePrice columns, and store the result in a new column called EstimatedRevenue. Then, calculate the EstimatedRevenue for each region, sort the resulting data in descending order by EstimatedRevenue, and display the top 5 regions, except TotalUS, with the highest EstimatedRevenue.\n",
    "\n",
    "* Hint: the estimated revenue of region x = sum of the estimated revenues in region x"
   ]
  },
  {
   "cell_type": "code",
   "metadata": {
    "ExecuteTime": {
     "end_time": "2024-08-11T07:47:32.902910Z",
     "start_time": "2024-08-11T07:47:32.889944Z"
    }
   },
   "source": [
    "# write your code here\n",
    "\n",
    "# multiply the Total Volume and AveragePrice columns to create a new column called EstimatedRevenue\n",
    "data['EstimatedRevenue'] = data['Total Volume'] * data['AveragePrice']\n",
    "\n",
    "# group the data by region and calculate the total estimated revenue for each region \n",
    "region_revenue = data.groupby('region')['EstimatedRevenue'].sum().reset_index()\n",
    "\n",
    "# ecxlude TotalUS\n",
    "region_revenue = region_revenue[region_revenue['region'] != 'TotalUS']\n",
    "\n",
    "# sort the data in descending order by EstimatedRevenue and display the top 5 regions with the highest revenue\n",
    "top_5_regions = region_revenue.sort_values('EstimatedRevenue', ascending=False).head(5)\n",
    "\n",
    "print(top_5_regions)"
   ],
   "outputs": [
    {
     "name": "stdout",
     "output_type": "stream",
     "text": [
      "          region  EstimatedRevenue\n",
      "6     California      1.121414e+09\n",
      "52          West      1.066834e+09\n",
      "29     Northeast      9.600079e+08\n",
      "45  SouthCentral      8.740593e+08\n",
      "46     Southeast      7.036306e+08\n"
     ]
    }
   ],
   "execution_count": 6
  },
  {
   "cell_type": "markdown",
   "metadata": {},
   "source": [
    "##### 3. Create a bar plot that shows the mean, median, and standard deviation of the Total Volume of the organic avocados sold in the regions with the highest overall Total Volume from (including) 2017."
   ]
  },
  {
   "cell_type": "code",
   "metadata": {
    "ExecuteTime": {
     "end_time": "2024-08-11T07:47:33.107543Z",
     "start_time": "2024-08-11T07:47:32.904521Z"
    }
   },
   "source": [
    "# write your code here\n",
    "\n",
    "# Extract the data for organic avocados from (including) 2017 and group it by region, excluding the TotalUS region.\n",
    "organic_data = data[(data['type'] == 'organic') & (data['year'] >= 2017) & (data['region'] != 'TotalUS')]\n",
    "region_stats = organic_data.groupby('region')['Total Volume'].agg(['sum', 'median', 'std'])\n",
    "\n",
    "\n",
    "# Get the 5 regions with the highest Total Volume and extract their data.\n",
    "top_regions = region_stats.nlargest(5, 'sum').index\n",
    "top_data = organic_data[organic_data['region'].isin(top_regions)]\n",
    "\n",
    "# Create a bar plot showing the mean, median, and standard deviation of the Total Volume of organic avocados in the 5 regions with the highest Total Volume from 2017.\n",
    "top_data_stats = top_data.groupby('region')['Total Volume'].agg(['mean', 'median', 'std'])\n",
    "display(top_data_stats.head())\n",
    "\n",
    "\n",
    "top_data_stats.plot(kind='bar', y=['mean', 'median', 'std'], rot=0)\n"
   ],
   "outputs": [
    {
     "data": {
      "text/plain": [
       "                     mean     median           std\n",
       "region                                            \n",
       "California  164844.836308  167193.75  33361.497553\n",
       "GreatLakes  178094.391538  169816.92  48354.489850\n",
       "Midsouth    142198.610615  139274.81  32964.267698\n",
       "Northeast   243570.227077  233976.66  99930.570938\n",
       "West        235409.159692  215628.86  80717.592835"
      ],
      "text/html": [
       "<div>\n",
       "<style scoped>\n",
       "    .dataframe tbody tr th:only-of-type {\n",
       "        vertical-align: middle;\n",
       "    }\n",
       "\n",
       "    .dataframe tbody tr th {\n",
       "        vertical-align: top;\n",
       "    }\n",
       "\n",
       "    .dataframe thead th {\n",
       "        text-align: right;\n",
       "    }\n",
       "</style>\n",
       "<table border=\"1\" class=\"dataframe\">\n",
       "  <thead>\n",
       "    <tr style=\"text-align: right;\">\n",
       "      <th></th>\n",
       "      <th>mean</th>\n",
       "      <th>median</th>\n",
       "      <th>std</th>\n",
       "    </tr>\n",
       "    <tr>\n",
       "      <th>region</th>\n",
       "      <th></th>\n",
       "      <th></th>\n",
       "      <th></th>\n",
       "    </tr>\n",
       "  </thead>\n",
       "  <tbody>\n",
       "    <tr>\n",
       "      <th>California</th>\n",
       "      <td>164844.836308</td>\n",
       "      <td>167193.75</td>\n",
       "      <td>33361.497553</td>\n",
       "    </tr>\n",
       "    <tr>\n",
       "      <th>GreatLakes</th>\n",
       "      <td>178094.391538</td>\n",
       "      <td>169816.92</td>\n",
       "      <td>48354.489850</td>\n",
       "    </tr>\n",
       "    <tr>\n",
       "      <th>Midsouth</th>\n",
       "      <td>142198.610615</td>\n",
       "      <td>139274.81</td>\n",
       "      <td>32964.267698</td>\n",
       "    </tr>\n",
       "    <tr>\n",
       "      <th>Northeast</th>\n",
       "      <td>243570.227077</td>\n",
       "      <td>233976.66</td>\n",
       "      <td>99930.570938</td>\n",
       "    </tr>\n",
       "    <tr>\n",
       "      <th>West</th>\n",
       "      <td>235409.159692</td>\n",
       "      <td>215628.86</td>\n",
       "      <td>80717.592835</td>\n",
       "    </tr>\n",
       "  </tbody>\n",
       "</table>\n",
       "</div>"
      ]
     },
     "metadata": {},
     "output_type": "display_data"
    },
    {
     "data": {
      "text/plain": [
       "<Axes: xlabel='region'>"
      ]
     },
     "execution_count": 7,
     "metadata": {},
     "output_type": "execute_result"
    },
    {
     "data": {
      "text/plain": [
       "<Figure size 640x480 with 1 Axes>"
      ],
      "image/png": "[encoded data removed]"
     },
     "metadata": {},
     "output_type": "display_data"
    }
   ],
   "execution_count": 7
  },
  {
   "cell_type": "markdown",
   "metadata": {},
   "source": [
    "##### 4. What is the mean and median of AveragePrice for each type of avocado (organic and conventional) in 2018? Be sure to include just the type, MeanPrice, and MedianPrice columns in the results."
   ]
  },
  {
   "cell_type": "code",
   "metadata": {
    "ExecuteTime": {
     "end_time": "2024-08-11T07:47:33.120066Z",
     "start_time": "2024-08-11T07:47:33.109671Z"
    }
   },
   "source": [
    "# write your code here\n",
    "\n",
    "# Extract the data for organic and conventional avocados in 2018.\n",
    "avocados_2018 = data[(data['year'] == 2018) & (data['type'].isin(['organic', 'conventional']))]\n",
    "\n",
    "# Calculate the mean and median price for each type of avocado in 2018.\n",
    "avocado_stats = avocados_2018.groupby('type')['AveragePrice'].agg(['mean', 'median'])\n",
    "\n",
    "# Select the 'type', 'MeanPrice', and 'MedianPrice' columns and display the results.\n",
    "avocado_stats.columns = ['MeanPrice', 'MedianPrice']\n",
    "avocado_stats.reset_index(inplace=True)\n",
    "avocado_stats = avocado_stats[['type', 'MeanPrice', 'MedianPrice']]\n",
    "print(avocado_stats)"
   ],
   "outputs": [
    {
     "name": "stdout",
     "output_type": "stream",
     "text": [
      "           type  MeanPrice  MedianPrice\n",
      "0  conventional   1.127886         1.14\n",
      "1       organic   1.567176         1.55\n"
     ]
    }
   ],
   "execution_count": 8
  },
  {
   "cell_type": "markdown",
   "metadata": {},
   "source": [
    "##### 5. Analyze the consistency of sales for Small Bags, Large Bags, XLarge Bags, and Total Bags of the top 3 avocado producing regions (excluding TotalUS) for each type of avocado over time. \n",
    "\n",
    "##### *To explain consistency of sales, use the coefficient of variation, which is a statistical measure used to determine the consistency or variability of a data set. It is calculated as the ratio of the standard deviation to the mean, expressed as a percentage. Higher values of the coefficient of variation indicate greater variability or inconsistency in the data, while lower values indicate more consistency in the data.* "
   ]
  },
  {
   "cell_type": "code",
   "metadata": {
    "ExecuteTime": {
     "end_time": "2024-08-11T08:12:52.197247Z",
     "start_time": "2024-08-11T08:12:52.164646Z"
    }
   },
   "source": [
    "# Get the top 3 regions (excluding TotalUS) with the highest sum of Total Volume\n",
    "top_regions = data[data.region != 'TotalUS'].groupby('region').sum().sort_values('Total Volume', ascending=False).head(3).index.tolist()\n",
    "\n",
    "# Get the sales of Small Bags, Large Bags, XLarge Bags, and Total Bags for each region and type of avocado\n",
    "sales_by_region_type = data[data.region.isin(top_regions)].groupby(['region', 'year', 'type']).agg({'Small Bags':'sum', 'Large Bags':'sum', 'XLarge Bags':'sum', 'Total Bags':'sum'})\n",
    "\n",
    "display(sales_by_region_type)\n",
    "# Calculate the coefficient of variation for each region and bag type, by dividing the standard deviation of the bags sold by the mean number of bags sold.\n",
    "cv_by_region_type = sales_by_region_type.groupby(['region', 'type']).std() / sales_by_region_type.groupby(['region', 'type']).mean()\n",
    "\n",
    "display(sales_by_region_type.groupby(['region', 'type']).std())\n",
    "\n",
    "\n",
    "# Print the results\n",
    "# cv_by_region_type.head()"
   ],
   "outputs": [
    {
     "data": {
      "text/plain": [
       "                                 Small Bags   Large Bags  XLarge Bags  \\\n",
       "region       year type                                                  \n",
       "California   2015 conventional  34078765.73   2090465.47    199155.11   \n",
       "                  organic         656128.13     37601.63         0.00   \n",
       "             2016 conventional  83648996.25   7698289.97   1359896.24   \n",
       "                  organic        3068319.08    324138.07         0.00   \n",
       "             2017 conventional  81759787.98   1549114.20   2818380.80   \n",
       "                  organic        3517682.07    192069.23         0.00   \n",
       "             2018 conventional  21324023.75    419525.44    895145.76   \n",
       "                  organic        1043976.90       731.90         0.00   \n",
       "SouthCentral 2015 conventional  28453748.05   6219047.73    200554.37   \n",
       "                  organic        1106536.18     40470.82         0.00   \n",
       "             2016 conventional  52540048.37  11134256.56   1330166.07   \n",
       "                  organic        3283400.79    490614.72         0.00   \n",
       "             2017 conventional  67616270.90  21817423.52    646814.28   \n",
       "                  organic        4699475.63    372637.75         0.00   \n",
       "             2018 conventional  25915048.41   5715567.67    462576.42   \n",
       "                  organic        1200955.49    146820.62         0.00   \n",
       "West         2015 conventional  35859556.76  13546516.13     53564.84   \n",
       "                  organic         416843.63   2251407.67         0.00   \n",
       "             2016 conventional  82758806.85  45335652.23    269972.08   \n",
       "                  organic        2036082.92   3551479.57         0.00   \n",
       "             2017 conventional  81865880.81  52827919.71    304844.89   \n",
       "                  organic        3570975.37   4368902.45      1932.36   \n",
       "             2018 conventional  15121922.88  20656272.91    200412.91   \n",
       "                  organic        1079220.16    993556.61      1907.57   \n",
       "\n",
       "                                  Total Bags  \n",
       "region       year type                        \n",
       "California   2015 conventional  3.636839e+07  \n",
       "                  organic       6.937298e+05  \n",
       "             2016 conventional  9.270718e+07  \n",
       "                  organic       3.392457e+06  \n",
       "             2017 conventional  8.612728e+07  \n",
       "                  organic       3.709751e+06  \n",
       "             2018 conventional  2.263869e+07  \n",
       "                  organic       1.044709e+06  \n",
       "SouthCentral 2015 conventional  3.487335e+07  \n",
       "                  organic       1.147007e+06  \n",
       "             2016 conventional  6.500447e+07  \n",
       "                  organic       3.774016e+06  \n",
       "             2017 conventional  9.008051e+07  \n",
       "                  organic       5.072113e+06  \n",
       "             2018 conventional  3.209319e+07  \n",
       "                  organic       1.347776e+06  \n",
       "West         2015 conventional  4.945964e+07  \n",
       "                  organic       2.668251e+06  \n",
       "             2016 conventional  1.283644e+08  \n",
       "                  organic       5.587562e+06  \n",
       "             2017 conventional  1.349986e+08  \n",
       "                  organic       7.941810e+06  \n",
       "             2018 conventional  3.597861e+07  \n",
       "                  organic       2.074684e+06  "
      ],
      "text/html": [
       "<div>\n",
       "<style scoped>\n",
       "    .dataframe tbody tr th:only-of-type {\n",
       "        vertical-align: middle;\n",
       "    }\n",
       "\n",
       "    .dataframe tbody tr th {\n",
       "        vertical-align: top;\n",
       "    }\n",
       "\n",
       "    .dataframe thead th {\n",
       "        text-align: right;\n",
       "    }\n",
       "</style>\n",
       "<table border=\"1\" class=\"dataframe\">\n",
       "  <thead>\n",
       "    <tr style=\"text-align: right;\">\n",
       "      <th></th>\n",
       "      <th></th>\n",
       "      <th></th>\n",
       "      <th>Small Bags</th>\n",
       "      <th>Large Bags</th>\n",
       "      <th>XLarge Bags</th>\n",
       "      <th>Total Bags</th>\n",
       "    </tr>\n",
       "    <tr>\n",
       "      <th>region</th>\n",
       "      <th>year</th>\n",
       "      <th>type</th>\n",
       "      <th></th>\n",
       "      <th></th>\n",
       "      <th></th>\n",
       "      <th></th>\n",
       "    </tr>\n",
       "  </thead>\n",
       "  <tbody>\n",
       "    <tr>\n",
       "      <th rowspan=\"8\" valign=\"top\">California</th>\n",
       "      <th rowspan=\"2\" valign=\"top\">2015</th>\n",
       "      <th>conventional</th>\n",
       "      <td>34078765.73</td>\n",
       "      <td>2090465.47</td>\n",
       "      <td>199155.11</td>\n",
       "      <td>3.636839e+07</td>\n",
       "    </tr>\n",
       "    <tr>\n",
       "      <th>organic</th>\n",
       "      <td>656128.13</td>\n",
       "      <td>37601.63</td>\n",
       "      <td>0.00</td>\n",
       "      <td>6.937298e+05</td>\n",
       "    </tr>\n",
       "    <tr>\n",
       "      <th rowspan=\"2\" valign=\"top\">2016</th>\n",
       "      <th>conventional</th>\n",
       "      <td>83648996.25</td>\n",
       "      <td>7698289.97</td>\n",
       "      <td>1359896.24</td>\n",
       "      <td>9.270718e+07</td>\n",
       "    </tr>\n",
       "    <tr>\n",
       "      <th>organic</th>\n",
       "      <td>3068319.08</td>\n",
       "      <td>324138.07</td>\n",
       "      <td>0.00</td>\n",
       "      <td>3.392457e+06</td>\n",
       "    </tr>\n",
       "    <tr>\n",
       "      <th rowspan=\"2\" valign=\"top\">2017</th>\n",
       "      <th>conventional</th>\n",
       "      <td>81759787.98</td>\n",
       "      <td>1549114.20</td>\n",
       "      <td>2818380.80</td>\n",
       "      <td>8.612728e+07</td>\n",
       "    </tr>\n",
       "    <tr>\n",
       "      <th>organic</th>\n",
       "      <td>3517682.07</td>\n",
       "      <td>192069.23</td>\n",
       "      <td>0.00</td>\n",
       "      <td>3.709751e+06</td>\n",
       "    </tr>\n",
       "    <tr>\n",
       "      <th rowspan=\"2\" valign=\"top\">2018</th>\n",
       "      <th>conventional</th>\n",
       "      <td>21324023.75</td>\n",
       "      <td>419525.44</td>\n",
       "      <td>895145.76</td>\n",
       "      <td>2.263869e+07</td>\n",
       "    </tr>\n",
       "    <tr>\n",
       "      <th>organic</th>\n",
       "      <td>1043976.90</td>\n",
       "      <td>731.90</td>\n",
       "      <td>0.00</td>\n",
       "      <td>1.044709e+06</td>\n",
       "    </tr>\n",
       "    <tr>\n",
       "      <th rowspan=\"8\" valign=\"top\">SouthCentral</th>\n",
       "      <th rowspan=\"2\" valign=\"top\">2015</th>\n",
       "      <th>conventional</th>\n",
       "      <td>28453748.05</td>\n",
       "      <td>6219047.73</td>\n",
       "      <td>200554.37</td>\n",
       "      <td>3.487335e+07</td>\n",
       "    </tr>\n",
       "    <tr>\n",
       "      <th>organic</th>\n",
       "      <td>1106536.18</td>\n",
       "      <td>40470.82</td>\n",
       "      <td>0.00</td>\n",
       "      <td>1.147007e+06</td>\n",
       "    </tr>\n",
       "    <tr>\n",
       "      <th rowspan=\"2\" valign=\"top\">2016</th>\n",
       "      <th>conventional</th>\n",
       "      <td>52540048.37</td>\n",
       "      <td>11134256.56</td>\n",
       "      <td>1330166.07</td>\n",
       "      <td>6.500447e+07</td>\n",
       "    </tr>\n",
       "    <tr>\n",
       "      <th>organic</th>\n",
       "      <td>3283400.79</td>\n",
       "      <td>490614.72</td>\n",
       "      <td>0.00</td>\n",
       "      <td>3.774016e+06</td>\n",
       "    </tr>\n",
       "    <tr>\n",
       "      <th rowspan=\"2\" valign=\"top\">2017</th>\n",
       "      <th>conventional</th>\n",
       "      <td>67616270.90</td>\n",
       "      <td>21817423.52</td>\n",
       "      <td>646814.28</td>\n",
       "      <td>9.008051e+07</td>\n",
       "    </tr>\n",
       "    <tr>\n",
       "      <th>organic</th>\n",
       "      <td>4699475.63</td>\n",
       "      <td>372637.75</td>\n",
       "      <td>0.00</td>\n",
       "      <td>5.072113e+06</td>\n",
       "    </tr>\n",
       "    <tr>\n",
       "      <th rowspan=\"2\" valign=\"top\">2018</th>\n",
       "      <th>conventional</th>\n",
       "      <td>25915048.41</td>\n",
       "      <td>5715567.67</td>\n",
       "      <td>462576.42</td>\n",
       "      <td>3.209319e+07</td>\n",
       "    </tr>\n",
       "    <tr>\n",
       "      <th>organic</th>\n",
       "      <td>1200955.49</td>\n",
       "      <td>146820.62</td>\n",
       "      <td>0.00</td>\n",
       "      <td>1.347776e+06</td>\n",
       "    </tr>\n",
       "    <tr>\n",
       "      <th rowspan=\"8\" valign=\"top\">West</th>\n",
       "      <th rowspan=\"2\" valign=\"top\">2015</th>\n",
       "      <th>conventional</th>\n",
       "      <td>35859556.76</td>\n",
       "      <td>13546516.13</td>\n",
       "      <td>53564.84</td>\n",
       "      <td>4.945964e+07</td>\n",
       "    </tr>\n",
       "    <tr>\n",
       "      <th>organic</th>\n",
       "      <td>416843.63</td>\n",
       "      <td>2251407.67</td>\n",
       "      <td>0.00</td>\n",
       "      <td>2.668251e+06</td>\n",
       "    </tr>\n",
       "    <tr>\n",
       "      <th rowspan=\"2\" valign=\"top\">2016</th>\n",
       "      <th>conventional</th>\n",
       "      <td>82758806.85</td>\n",
       "      <td>45335652.23</td>\n",
       "      <td>269972.08</td>\n",
       "      <td>1.283644e+08</td>\n",
       "    </tr>\n",
       "    <tr>\n",
       "      <th>organic</th>\n",
       "      <td>2036082.92</td>\n",
       "      <td>3551479.57</td>\n",
       "      <td>0.00</td>\n",
       "      <td>5.587562e+06</td>\n",
       "    </tr>\n",
       "    <tr>\n",
       "      <th rowspan=\"2\" valign=\"top\">2017</th>\n",
       "      <th>conventional</th>\n",
       "      <td>81865880.81</td>\n",
       "      <td>52827919.71</td>\n",
       "      <td>304844.89</td>\n",
       "      <td>1.349986e+08</td>\n",
       "    </tr>\n",
       "    <tr>\n",
       "      <th>organic</th>\n",
       "      <td>3570975.37</td>\n",
       "      <td>4368902.45</td>\n",
       "      <td>1932.36</td>\n",
       "      <td>7.941810e+06</td>\n",
       "    </tr>\n",
       "    <tr>\n",
       "      <th rowspan=\"2\" valign=\"top\">2018</th>\n",
       "      <th>conventional</th>\n",
       "      <td>15121922.88</td>\n",
       "      <td>20656272.91</td>\n",
       "      <td>200412.91</td>\n",
       "      <td>3.597861e+07</td>\n",
       "    </tr>\n",
       "    <tr>\n",
       "      <th>organic</th>\n",
       "      <td>1079220.16</td>\n",
       "      <td>993556.61</td>\n",
       "      <td>1907.57</td>\n",
       "      <td>2.074684e+06</td>\n",
       "    </tr>\n",
       "  </tbody>\n",
       "</table>\n",
       "</div>"
      ]
     },
     "metadata": {},
     "output_type": "display_data"
    },
    {
     "data": {
      "text/plain": [
       "                             Small Bags    Large Bags   XLarge Bags  \\\n",
       "region       type                                                     \n",
       "California   conventional  3.218931e+07  3.248096e+06  1.108079e+06   \n",
       "             organic       1.431104e+06  1.488754e+05  0.000000e+00   \n",
       "SouthCentral conventional  1.999057e+07  7.474870e+06  4.828260e+05   \n",
       "             organic       1.737775e+06  2.056253e+05  0.000000e+00   \n",
       "West         conventional  3.388273e+07  1.893926e+07  1.112425e+05   \n",
       "             organic       1.368988e+06  1.482123e+06  1.108539e+03   \n",
       "\n",
       "                             Total Bags  \n",
       "region       type                        \n",
       "California   conventional  3.514518e+07  \n",
       "             organic       1.560389e+06  \n",
       "SouthCentral conventional  2.744378e+07  \n",
       "             organic       1.910286e+06  \n",
       "West         conventional  5.172745e+07  \n",
       "             organic       2.723219e+06  "
      ],
      "text/html": [
       "<div>\n",
       "<style scoped>\n",
       "    .dataframe tbody tr th:only-of-type {\n",
       "        vertical-align: middle;\n",
       "    }\n",
       "\n",
       "    .dataframe tbody tr th {\n",
       "        vertical-align: top;\n",
       "    }\n",
       "\n",
       "    .dataframe thead th {\n",
       "        text-align: right;\n",
       "    }\n",
       "</style>\n",
       "<table border=\"1\" class=\"dataframe\">\n",
       "  <thead>\n",
       "    <tr style=\"text-align: right;\">\n",
       "      <th></th>\n",
       "      <th></th>\n",
       "      <th>Small Bags</th>\n",
       "      <th>Large Bags</th>\n",
       "      <th>XLarge Bags</th>\n",
       "      <th>Total Bags</th>\n",
       "    </tr>\n",
       "    <tr>\n",
       "      <th>region</th>\n",
       "      <th>type</th>\n",
       "      <th></th>\n",
       "      <th></th>\n",
       "      <th></th>\n",
       "      <th></th>\n",
       "    </tr>\n",
       "  </thead>\n",
       "  <tbody>\n",
       "    <tr>\n",
       "      <th rowspan=\"2\" valign=\"top\">California</th>\n",
       "      <th>conventional</th>\n",
       "      <td>3.218931e+07</td>\n",
       "      <td>3.248096e+06</td>\n",
       "      <td>1.108079e+06</td>\n",
       "      <td>3.514518e+07</td>\n",
       "    </tr>\n",
       "    <tr>\n",
       "      <th>organic</th>\n",
       "      <td>1.431104e+06</td>\n",
       "      <td>1.488754e+05</td>\n",
       "      <td>0.000000e+00</td>\n",
       "      <td>1.560389e+06</td>\n",
       "    </tr>\n",
       "    <tr>\n",
       "      <th rowspan=\"2\" valign=\"top\">SouthCentral</th>\n",
       "      <th>conventional</th>\n",
       "      <td>1.999057e+07</td>\n",
       "      <td>7.474870e+06</td>\n",
       "      <td>4.828260e+05</td>\n",
       "      <td>2.744378e+07</td>\n",
       "    </tr>\n",
       "    <tr>\n",
       "      <th>organic</th>\n",
       "      <td>1.737775e+06</td>\n",
       "      <td>2.056253e+05</td>\n",
       "      <td>0.000000e+00</td>\n",
       "      <td>1.910286e+06</td>\n",
       "    </tr>\n",
       "    <tr>\n",
       "      <th rowspan=\"2\" valign=\"top\">West</th>\n",
       "      <th>conventional</th>\n",
       "      <td>3.388273e+07</td>\n",
       "      <td>1.893926e+07</td>\n",
       "      <td>1.112425e+05</td>\n",
       "      <td>5.172745e+07</td>\n",
       "    </tr>\n",
       "    <tr>\n",
       "      <th>organic</th>\n",
       "      <td>1.368988e+06</td>\n",
       "      <td>1.482123e+06</td>\n",
       "      <td>1.108539e+03</td>\n",
       "      <td>2.723219e+06</td>\n",
       "    </tr>\n",
       "  </tbody>\n",
       "</table>\n",
       "</div>"
      ]
     },
     "metadata": {},
     "output_type": "display_data"
    }
   ],
   "execution_count": 28
  },
  {
   "cell_type": "markdown",
   "metadata": {},
   "source": [
    "### C. Learn more\n",
    "* https://www.statisticshowto.com/probability-and-statistics/how-to-find-a-coefficient-of-variation/"
   ]
  },
  {
   "cell_type": "code",
   "metadata": {
    "ExecuteTime": {
     "end_time": "2024-08-11T07:47:33.162294Z",
     "start_time": "2024-08-11T07:47:33.160145Z"
    }
   },
   "source": [],
   "outputs": [],
   "execution_count": 9
  }
 ],
 "metadata": {
  "kernelspec": {
   "display_name": "Python 3 (ipykernel)",
   "language": "python",
   "name": "python3"
  },
  "language_info": {
   "codemirror_mode": {
    "name": "ipython",
    "version": 3
   },
   "file_extension": ".py",
   "mimetype": "text/x-python",
   "name": "python",
   "nbconvert_exporter": "python",
   "pygments_lexer": "ipython3",
   "version": "3.10.4"
  }
 },
 "nbformat": 4,
 "nbformat_minor": 4
}
