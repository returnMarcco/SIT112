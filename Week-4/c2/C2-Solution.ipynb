{
 "cells": [
  {
   "cell_type": "markdown",
   "metadata": {
    "tags": []
   },
   "source": [
    "# **Task C2** \n",
    "## Plotting the Avocado Data using Pandas and Seaborn\n",
    "\n",
    "##### This task uses the avocado dataset. The dataset contains historical data on avocado prices and sales volume in multiple U.S. markets. One of the columns in this dataset, Unnamed: 0, contains sequential numbers that are irrelevant to analyzing this data. Three of the other columns contain sales for PLU (price look-up) codes 4046, 4225, and 4770. These columns will not be used in this task. If you review the data, you’ll see that some of the regions overlap. For example, one of the regions is the entire U.S., and all of the other regions are parts of the U.S. Because of that, you would need to review this data carefully before determining the best way to analyze it. For the purposes of this task though, the overlapping regions won’t be taken into consideration.\n",
    "\n",
    "##### https://www.kaggle.com/neuromusic/avocado-prices\n",
    "\n",
    "<img src=\"avocado-logo.png\" alt=\"SIT112 Avocado!\" width=\"1800\" height=\"200\">\n"
   ]
  },
  {
   "cell_type": "markdown",
   "metadata": {},
   "source": [
    "### A. Instructions\n",
    "\n",
    "1. Make sure you have completed Task P3 before working on this task. \n",
    "2. Complete the task based on the comments and hints provided in the following sections.   \n",
    "3. Complete the TaskCompletionReport from. \n",
    "4. Before submission, please make sure you have executed all the cells in your jupyter notebook without any error; otherwise, your submission may not be flagged as complete. \n",
    "5. Submit (1) the TaskCompletionReport as a \"PDF\" file and (2) your solution (code) as an \"ipynb\" file (do not zip/combine them). You can do this by the end of Week 12, but feedback will only be provided for submissions received by 11 AM on the due date. <font color=\"red\">Please do not include the dataset in your submission. </font>\n",
    "6. The workshops are the primary venue for you to seek help if you need any clarification/assistance. The tutors are there to help you complete and submit the tasks. Please avoid emailing your code or screenshots to the tutors outside workshop hours. \n",
    "7. Consider using online resources such as ChatGPT to strengthen your undertanding of the task. \n",
    "\n",
    "Good luck :)"
   ]
  },
  {
   "cell_type": "code",
   "execution_count": 1,
   "metadata": {},
   "outputs": [],
   "source": [
    "import pandas as pd\n",
    "import seaborn as sns\n",
    "import matplotlib.pyplot as plt"
   ]
  },
  {
   "cell_type": "markdown",
   "metadata": {},
   "source": [
    "### B. Write Python code that performs (answers) the following operations (questions) "
   ]
  },
  {
   "cell_type": "markdown",
   "metadata": {},
   "source": [
    "##### 1. Read the data from the .csv file into a DataFrame and display the first five rows."
   ]
  },
  {
   "cell_type": "code",
   "execution_count": 2,
   "metadata": {},
   "outputs": [
    {
     "data": {
      "text/html": [
       "<div>\n",
       "<style scoped>\n",
       "    .dataframe tbody tr th:only-of-type {\n",
       "        vertical-align: middle;\n",
       "    }\n",
       "\n",
       "    .dataframe tbody tr th {\n",
       "        vertical-align: top;\n",
       "    }\n",
       "\n",
       "    .dataframe thead th {\n",
       "        text-align: right;\n",
       "    }\n",
       "</style>\n",
       "<table border=\"1\" class=\"dataframe\">\n",
       "  <thead>\n",
       "    <tr style=\"text-align: right;\">\n",
       "      <th></th>\n",
       "      <th>Unnamed: 0</th>\n",
       "      <th>Date</th>\n",
       "      <th>AveragePrice</th>\n",
       "      <th>Total Volume</th>\n",
       "      <th>4046</th>\n",
       "      <th>4225</th>\n",
       "      <th>4770</th>\n",
       "      <th>Total Bags</th>\n",
       "      <th>Small Bags</th>\n",
       "      <th>Large Bags</th>\n",
       "      <th>XLarge Bags</th>\n",
       "      <th>type</th>\n",
       "      <th>year</th>\n",
       "      <th>region</th>\n",
       "    </tr>\n",
       "  </thead>\n",
       "  <tbody>\n",
       "    <tr>\n",
       "      <th>0</th>\n",
       "      <td>0</td>\n",
       "      <td>2015-12-27</td>\n",
       "      <td>1.33</td>\n",
       "      <td>64236.62</td>\n",
       "      <td>1036.74</td>\n",
       "      <td>54454.85</td>\n",
       "      <td>48.16</td>\n",
       "      <td>8696.87</td>\n",
       "      <td>8603.62</td>\n",
       "      <td>93.25</td>\n",
       "      <td>0.0</td>\n",
       "      <td>conventional</td>\n",
       "      <td>2015</td>\n",
       "      <td>Albany</td>\n",
       "    </tr>\n",
       "    <tr>\n",
       "      <th>1</th>\n",
       "      <td>1</td>\n",
       "      <td>2015-12-20</td>\n",
       "      <td>1.35</td>\n",
       "      <td>54876.98</td>\n",
       "      <td>674.28</td>\n",
       "      <td>44638.81</td>\n",
       "      <td>58.33</td>\n",
       "      <td>9505.56</td>\n",
       "      <td>9408.07</td>\n",
       "      <td>97.49</td>\n",
       "      <td>0.0</td>\n",
       "      <td>conventional</td>\n",
       "      <td>2015</td>\n",
       "      <td>Albany</td>\n",
       "    </tr>\n",
       "    <tr>\n",
       "      <th>2</th>\n",
       "      <td>2</td>\n",
       "      <td>2015-12-13</td>\n",
       "      <td>0.93</td>\n",
       "      <td>118220.22</td>\n",
       "      <td>794.70</td>\n",
       "      <td>109149.67</td>\n",
       "      <td>130.50</td>\n",
       "      <td>8145.35</td>\n",
       "      <td>8042.21</td>\n",
       "      <td>103.14</td>\n",
       "      <td>0.0</td>\n",
       "      <td>conventional</td>\n",
       "      <td>2015</td>\n",
       "      <td>Albany</td>\n",
       "    </tr>\n",
       "    <tr>\n",
       "      <th>3</th>\n",
       "      <td>3</td>\n",
       "      <td>2015-12-06</td>\n",
       "      <td>1.08</td>\n",
       "      <td>78992.15</td>\n",
       "      <td>1132.00</td>\n",
       "      <td>71976.41</td>\n",
       "      <td>72.58</td>\n",
       "      <td>5811.16</td>\n",
       "      <td>5677.40</td>\n",
       "      <td>133.76</td>\n",
       "      <td>0.0</td>\n",
       "      <td>conventional</td>\n",
       "      <td>2015</td>\n",
       "      <td>Albany</td>\n",
       "    </tr>\n",
       "    <tr>\n",
       "      <th>4</th>\n",
       "      <td>4</td>\n",
       "      <td>2015-11-29</td>\n",
       "      <td>1.28</td>\n",
       "      <td>51039.60</td>\n",
       "      <td>941.48</td>\n",
       "      <td>43838.39</td>\n",
       "      <td>75.78</td>\n",
       "      <td>6183.95</td>\n",
       "      <td>5986.26</td>\n",
       "      <td>197.69</td>\n",
       "      <td>0.0</td>\n",
       "      <td>conventional</td>\n",
       "      <td>2015</td>\n",
       "      <td>Albany</td>\n",
       "    </tr>\n",
       "  </tbody>\n",
       "</table>\n",
       "</div>"
      ],
      "text/plain": [
       "   Unnamed: 0        Date  AveragePrice  Total Volume     4046       4225  \\\n",
       "0           0  2015-12-27          1.33      64236.62  1036.74   54454.85   \n",
       "1           1  2015-12-20          1.35      54876.98   674.28   44638.81   \n",
       "2           2  2015-12-13          0.93     118220.22   794.70  109149.67   \n",
       "3           3  2015-12-06          1.08      78992.15  1132.00   71976.41   \n",
       "4           4  2015-11-29          1.28      51039.60   941.48   43838.39   \n",
       "\n",
       "     4770  Total Bags  Small Bags  Large Bags  XLarge Bags          type  \\\n",
       "0   48.16     8696.87     8603.62       93.25          0.0  conventional   \n",
       "1   58.33     9505.56     9408.07       97.49          0.0  conventional   \n",
       "2  130.50     8145.35     8042.21      103.14          0.0  conventional   \n",
       "3   72.58     5811.16     5677.40      133.76          0.0  conventional   \n",
       "4   75.78     6183.95     5986.26      197.69          0.0  conventional   \n",
       "\n",
       "   year  region  \n",
       "0  2015  Albany  \n",
       "1  2015  Albany  \n",
       "2  2015  Albany  \n",
       "3  2015  Albany  \n",
       "4  2015  Albany  "
      ]
     },
     "execution_count": 2,
     "metadata": {},
     "output_type": "execute_result"
    }
   ],
   "source": [
    "# write your code here\n",
    "data = pd.read_csv('avocado.csv')\n",
    "data.head()"
   ]
  },
  {
   "cell_type": "markdown",
   "metadata": {},
   "source": [
    "##### 2. Filter the data to exclude the following regions: TotalUS, West, and NorthEast. Use the filtered data to create a DataFrame that contains the total of the Small Bags, Large Bags, and XLarge Bags columns grouped by type. Use the grouped data to create a bar plot that shows the number of small, large, and extra-large bags for both types of avocado. Set the tile and axis labels of the bar plot and make sure all the labels are readable. "
   ]
  },
  {
   "cell_type": "code",
   "execution_count": 3,
   "metadata": {},
   "outputs": [
    {
     "data": {
      "text/plain": [
       "Text(0, 0.5, 'Number of Bags')"
      ]
     },
     "execution_count": 3,
     "metadata": {},
     "output_type": "execute_result"
    },
    {
     "data": {
      "image/png": "[encoded data removed]",
      "text/plain": [
       "<Figure size 432x288 with 1 Axes>"
      ]
     },
     "metadata": {
      "needs_background": "light"
     },
     "output_type": "display_data"
    }
   ],
   "source": [
    "# write your code here\n",
    "\n",
    "# Filter the data to exclude the specified regions\n",
    "excluded_regions = ['TotalUS', 'West', 'NorthEast']\n",
    "filtered_data = data[~data['region'].isin(excluded_regions)]\n",
    "\n",
    "# Group the filtered data by type and calculate the total number of small, large, and extra-large bags\n",
    "grouped_data = filtered_data.groupby('type').sum()[['Small Bags', 'Large Bags', 'XLarge Bags']]\n",
    "\n",
    "\n",
    "# Create a bar plot using the grouped data\n",
    "ax = grouped_data.plot.bar()\n",
    "\n",
    "# Set the title and axis labels with appropriate padding\n",
    "ax.set_title('Total Number of Small, Large, and XLarge Bags by Avocado Type', pad=10)\n",
    "ax.set_xlabel('Avocado Type')\n",
    "ax.set_ylabel('Number of Bags')\n",
    "\n",
    "# # Display the plot\n",
    "# plt.show()\n",
    "\n",
    "# import seaborn as sns\n",
    "# import matplotlib.pyplot as plt\n",
    "\n",
    "# # Filter the data to exclude the specified regions\n",
    "# excluded_regions = ['TotalUS', 'West', 'NorthEast']\n",
    "# filtered_data = data[~data['region'].isin(excluded_regions)]\n",
    "\n",
    "# # Group the filtered data by type and calculate the total number of small, large, and extra-large bags\n",
    "# grouped_data = filtered_data.groupby('type').sum()[['Small Bags', 'Large Bags', 'XLarge Bags']]\n",
    "\n",
    "# # Reset the index of the grouped data\n",
    "# grouped_data = grouped_data.reset_index()\n",
    "\n",
    "# # Melt the grouped data to create a long-form dataframe\n",
    "# melted_data = pd.melt(grouped_data, id_vars=['type'], var_name='Bag Size', value_name='Number of Bags')\n",
    "\n",
    "# # Create a bar plot using seaborn\n",
    "# sns.barplot(x='type', y='Number of Bags', hue='Bag Size', data=melted_data)\n",
    "\n",
    "# # Set the title and axis labels with appropriate padding\n",
    "# plt.title('Total Number of Small, Large, and XLarge Bags by Avocado Type', pad=10)\n",
    "# plt.xlabel('Avocado Type')\n",
    "# plt.ylabel('Number of Bags')\n",
    "\n",
    "# # Display the plot\n",
    "# plt.show()\n",
    "\n"
   ]
  },
  {
   "cell_type": "markdown",
   "metadata": {},
   "source": [
    "##### 3. Analyze the avocado data from 2016 to 2018, to identify the top six regions where the sum of the average price of avocados is the highest. Create a visualization containing a grid of subplots, where each subplot is a box plot showing the distribution of average prices of organic and conventional avocados from 2016 to 2018, for the top six regions identified."
   ]
  },
  {
   "cell_type": "code",
   "execution_count": 5,
   "metadata": {},
   "outputs": [
    {
     "data": {
      "image/png": "[encoded data removed]",
      "text/plain": [
       "<Figure size 1152x648 with 6 Axes>"
      ]
     },
     "metadata": {
      "needs_background": "light"
     },
     "output_type": "display_data"
    }
   ],
   "source": [
    "# Filter the data to include only years 2016 to 2018\n",
    "data_filtered = data[(data['year']>= 2016) & (data['year']<=2018)]\n",
    "\n",
    "# Group the filtered data by region and calculate the sum of average prices for each group\n",
    "region_price = data_filtered.groupby(['region'])['AveragePrice'].agg(['sum']).rename(columns={'sum':'AveragePriceSum'})\n",
    "\n",
    "# Select the top 6 regions with the highest sum of average prices\n",
    "top_regions = region_price.nlargest(6, 'AveragePriceSum').index.get_level_values(0)\n",
    "\n",
    "# Filter the data to include only the top 6 regions\n",
    "data_top = data[(data['region'].isin(top_regions))]\n",
    "\n",
    "# Create separate dataframes for organic and conventional avocados in the top 6 regions\n",
    "organic_avocado_df = data_top[data_top['type'] == 'organic']\n",
    "conventional_avocado_df = data_top[data_top['type'] == 'conventional']\n",
    "\n",
    "# Create a 3x2 grid of subplots and flatten it into a 1D array of axes\n",
    "fig, axs = plt.subplots(nrows=3, ncols=2, figsize=(16, 9))\n",
    "axs = axs.flatten()\n",
    "\n",
    "\n",
    "# For each of the top 6 regions, create a box plot of the distribution of average prices for organic and conventional avocados\n",
    "for i, region in enumerate(top_regions):\n",
    "    if i < len(axs):\n",
    "        organic_region_df = organic_avocado_df[organic_avocado_df['region'] == region]\n",
    "        conventional_region_df = conventional_avocado_df[conventional_avocado_df['region'] == region]\n",
    "        \n",
    "        region_df = pd.concat([organic_region_df['AveragePrice'], conventional_region_df['AveragePrice']], axis=1)\n",
    "        region_df.columns = ['Organic', 'Conventional']\n",
    "        \n",
    "        region_df.plot(kind='box', ax=axs[i], title=region)\n",
    "        axs[0].set_ylabel('Price')\n",
    "        \n",
    "# Adjust the layout of the subplots to reduce overlap and show the plot\n",
    "plt.tight_layout()\n",
    "plt.show()\n",
    "\n",
    "# # Filter the data to include only years 2016 to 2018\n",
    "# data_filtered = data[(data['year']>= 2016) & (data['year']<=2018)]\n",
    "\n",
    "# # Group the filtered data by region and calculate the sum of average prices for each group\n",
    "# region_price = data_filtered.groupby(['region'])['AveragePrice'].agg(['sum']).rename(columns={'sum':'AveragePriceSum'})\n",
    "\n",
    "# # Select the top 6 regions with the highest sum of average prices\n",
    "# top_regions = region_price.nlargest(6, 'AveragePriceSum').index.get_level_values(0)\n",
    "\n",
    "# # Create a 3x2 grid of subplots and flatten it into a 1D array of axes\n",
    "# fig, axs = plt.subplots(nrows=3, ncols=2, figsize=(16, 9))\n",
    "# axs = axs.flatten()\n",
    "\n",
    "# # For each of the top 6 regions, create a box plot of the distribution of average prices for organic and conventional avocados\n",
    "# for i, region in enumerate(top_regions):\n",
    "#     if i < len(axs):\n",
    "#         # Filter the data to include only the current region\n",
    "#         region_data = data_filtered[data_filtered['region'] == region]\n",
    "        \n",
    "#         # Create separate dataframes for organic and conventional avocados in the current region\n",
    "#         organic_avocado_df = region_data[region_data['type'] == 'organic']\n",
    "#         conventional_avocado_df = region_data[region_data['type'] == 'conventional']\n",
    "        \n",
    "#         # Combine the dataframes into a single dataframe for plotting\n",
    "#         region_df = pd.concat([organic_avocado_df['AveragePrice'], conventional_avocado_df['AveragePrice']], axis=1)\n",
    "#         region_df.columns = ['Organic', 'Conventional']\n",
    "        \n",
    "#         # Create a box plot of the distribution of average prices for organic and conventional avocados in the current region\n",
    "#         region_df.plot(kind='box', ax=axs[i], title=region)\n",
    "#         axs[0].set_ylabel('Price')\n",
    "        \n",
    "# # Adjust the layout of the subplots to reduce overlap and show the plot\n",
    "# plt.tight_layout()\n",
    "# plt.show()"
   ]
  },
  {
   "cell_type": "markdown",
   "metadata": {},
   "source": [
    "### C. Learn more\n",
    "\n",
    "* https://www.youtube.com/watch?v=jb_MvVFZXeU\n",
    "* https://seaborn.pydata.org/examples/index.html\n",
    "* https://matplotlib.org/stable/gallery/index.html\n",
    "* https://plotly.com/python/\n",
    "* https://www.kaggle.com/code/kanncaa1/plotly-tutorial-for-beginners"
   ]
  },
  {
   "cell_type": "code",
   "execution_count": null,
   "metadata": {},
   "outputs": [],
   "source": []
  }
 ],
 "metadata": {
  "kernelspec": {
   "display_name": "Python 3 (ipykernel)",
   "language": "python",
   "name": "python3"
  },
  "language_info": {
   "codemirror_mode": {
    "name": "ipython",
    "version": 3
   },
   "file_extension": ".py",
   "mimetype": "text/x-python",
   "name": "python",
   "nbconvert_exporter": "python",
   "pygments_lexer": "ipython3",
   "version": "3.10.4"
  }
 },
 "nbformat": 4,
 "nbformat_minor": 4
}
