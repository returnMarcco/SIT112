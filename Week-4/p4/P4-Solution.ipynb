{
 "cells": [
  {
   "cell_type": "markdown",
   "id": "72ad9653-4738-4524-81a9-c9d8b5a04b4a",
   "metadata": {
    "tags": []
   },
   "source": [
    "# **Task P4** \n",
    "## Getting Different Types of Data"
   ]
  },
  {
   "cell_type": "markdown",
   "id": "2ec3f221-2c50-44c0-8b12-cf56c9d3ea82",
   "metadata": {},
   "source": [
    "### A. Instructions\n",
    "\n",
    "1. Complete this task without looking at the solution provided to you. \n",
    "2. You can then look at the solution provided to you and compare it against yours.\n",
    "3. Complete and submit the TaskCompletionReport in PDF format using Ontrack. You can do this by the end of Week 12, but feedback will only be provided for submissions received by 11 AM on the due date.   \n",
    "4. Do **not** include the solution (yours or the one provided to you) in your submission.\n",
    "5. The workshops are the primary venue for you to seek help if you need any clarification/assistance. The tutors are there to help you complete and submit the tasks. Please avoid emailing your code or screenshots to the tutors outside workshop hours. \n",
    "6. Consider using online resources such as ChatGPT to strengthen your undertanding of the task. \n",
    "\n",
    "Good luck :)"
   ]
  },
  {
   "cell_type": "code",
   "execution_count": 2,
   "id": "28f09225-bd0c-40b5-8424-4a6d7fc8b682",
   "metadata": {},
   "outputs": [],
   "source": [
    "import pandas as pd"
   ]
  },
  {
   "cell_type": "markdown",
   "id": "00d0ece5-4730-4e40-9d15-db3e71e96986",
   "metadata": {},
   "source": [
    "##### 1.\tDownload the CSV file at this link and read the data into a DataFrame:\n",
    "https://raw.githubusercontent.com/fivethirtyeight/data/master/thanksgiving-2015/thanksgiving-2015-poll-data.csv "
   ]
  },
  {
   "cell_type": "code",
   "execution_count": null,
   "id": "d4a13a0f-b63b-4eca-9282-02564838ed58",
   "metadata": {},
   "outputs": [],
   "source": [
    "# write your code here\n",
    "url = 'https://raw.githubusercontent.com/fivethirtyeight/data/master/thanksgiving-2015/thanksgiving-2015-poll-data.csv'\n",
    "df = pd.read_csv(url)\n",
    "df.head()"
   ]
  },
  {
   "cell_type": "markdown",
   "id": "286c48e8-b92c-4cb2-a563-feb8cd574a21",
   "metadata": {},
   "source": [
    "##### 2.\tDownload the Stata file at this link and read the data into a DataFrame:\n",
    "http://www.stata-press.com/data/r8/cancer.dta "
   ]
  },
  {
   "cell_type": "code",
   "execution_count": null,
   "id": "4f869dc1-5e94-4a6d-ba84-b3c97ed3ba5c",
   "metadata": {},
   "outputs": [],
   "source": [
    "# write your code here\n",
    "url = 'http://www.stata-press.com/data/r8/cancer.dta'\n",
    "df = pd.read_stata(url)\n",
    "df.head()"
   ]
  },
  {
   "cell_type": "markdown",
   "id": "5810fa8d-360c-4759-8d36-ab88bd2e344c",
   "metadata": {},
   "source": [
    "##### 3.\tDownload the CSV file at this link and load the data into a DataFrame. You’ll need to create a Kaggle account if you do not already have one.\n",
    "https://www.kaggle.com/kaggle/sf-salaries"
   ]
  },
  {
   "cell_type": "code",
   "execution_count": 3,
   "id": "dde45f19-afa2-4543-a359-109d9323f154",
   "metadata": {},
   "outputs": [
    {
     "name": "stderr",
     "output_type": "stream",
     "text": [
      "/var/folders/h3/mh7s0j_505vbd01k4s7dptvr0000gn/T/ipykernel_55460/3044566195.py:4: DtypeWarning: Columns (3,4,5,6,12) have mixed types. Specify dtype option on import or set low_memory=False.\n",
      "  data = pd.read_csv('Salaries.csv')\n"
     ]
    }
   ],
   "source": [
    "# write your code here\n",
    "\n",
    "# Download the CSV file first then uncomment the following code\n",
    "data = pd.read_csv('Salaries.csv')\n",
    "# data.head()"
   ]
  },
  {
   "cell_type": "markdown",
   "id": "c7e15ca3-2df1-4847-9da3-21832d676c02",
   "metadata": {},
   "source": [
    "##### 4.\tSearch Kaggle for something that you are interested in to see if there is any data for that interest. If there is, download that dataset and load it into a DataFrame. If not, just download one of the trending datasets in the trending section as shown below: \n",
    "\n",
    "##### https://www.kaggle.com/datasets\n",
    "<br>\n",
    "<img src=\"p4.png\" alt=\"kaggle data sets\" width=\"1800\" height=\"200\">"
   ]
  },
  {
   "cell_type": "code",
   "execution_count": null,
   "id": "6f5079f7-8c8b-4f34-b94e-f782f1fc224d",
   "metadata": {},
   "outputs": [],
   "source": [
    "# write your code here"
   ]
  }
 ],
 "metadata": {
  "kernelspec": {
   "display_name": "Python 3 (ipykernel)",
   "language": "python",
   "name": "python3"
  },
  "language_info": {
   "codemirror_mode": {
    "name": "ipython",
    "version": 3
   },
   "file_extension": ".py",
   "mimetype": "text/x-python",
   "name": "python",
   "nbconvert_exporter": "python",
   "pygments_lexer": "ipython3",
   "version": "3.10.4"
  }
 },
 "nbformat": 4,
 "nbformat_minor": 5
}
