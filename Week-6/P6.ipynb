{
 "cells": [
  {
   "cell_type": "markdown",
   "metadata": {},
   "source": [
    "# **Task P6** \n",
    "## Preparing the Avocado Data\n",
    "\n",
    "##### This task uses the avocado dataset. The dataset contains historical data on avocado prices and sales volume in multiple U.S. markets. One of the columns in this dataset, Unnamed: 0, contains sequential numbers that are irrelevant to analyzing this data. Three of the other columns contain sales for PLU (price look-up) codes 4046, 4225, and 4770. These columns will not be used in this task. If you review the data, you’ll see that some of the regions overlap. For example, one of the regions is the entire U.S., and all of the other regions are parts of the U.S. Because of that, you would need to review this data carefully before determining the best way to analyze it. For the purposes of this task though, the overlapping regions won’t be taken into consideration.\n",
    "\n",
    "##### https://www.kaggle.com/neuromusic/avocado-prices\n",
    "\n",
    "<img src=\"avocado-logo.png\" alt=\"SIT112 Avocado!\" width=\"1800\" height=\"200\">\n"
   ]
  },
  {
   "cell_type": "markdown",
   "metadata": {},
   "source": [
    "### A. Instructions\n",
    "\n",
    "1. Complete this task without looking at the solution notebook. \n",
    "2. You can then look at the solution notebook and compare it against yours.\n",
    "3. Complete and submit the TaskCompletionReport form in PDF format using Ontrack. You can do this by the end of Week 12, but feedback will only be provided for submissions received by 11 AM of the due date.\n",
    "4. Do **not** include the solution (yours or the one provided to you) in your submission.\n",
    "5. The workshops are the primary venue for you to seek help if you need any clarification/assistance. The tutors are there to help you complete and submit the tasks. Please avoid emailing your code or screenshots to the tutors outside workshop hours. \n",
    "6. Consider using online resources such as ChatGPT to strengthen your understanding of the task. \n",
    "\n",
    "Good luck :)"
   ]
  },
  {
   "cell_type": "markdown",
   "metadata": {},
   "source": [
    "### B. Write Python code that performs (answers) the following operations (questions)"
   ]
  },
  {
   "cell_type": "code",
   "execution_count": 1,
   "metadata": {},
   "outputs": [],
   "source": [
    "import pandas as pd"
   ]
  },
  {
   "cell_type": "markdown",
   "metadata": {},
   "source": [
    "##### 1.\tRead the data from the .csv file into a DataFrame and display the first five rows."
   ]
  },
  {
   "cell_type": "code",
   "execution_count": 2,
   "metadata": {},
   "outputs": [
    {
     "data": {
      "text/html": [
       "<div>\n",
       "<style scoped>\n",
       "    .dataframe tbody tr th:only-of-type {\n",
       "        vertical-align: middle;\n",
       "    }\n",
       "\n",
       "    .dataframe tbody tr th {\n",
       "        vertical-align: top;\n",
       "    }\n",
       "\n",
       "    .dataframe thead th {\n",
       "        text-align: right;\n",
       "    }\n",
       "</style>\n",
       "<table border=\"1\" class=\"dataframe\">\n",
       "  <thead>\n",
       "    <tr style=\"text-align: right;\">\n",
       "      <th></th>\n",
       "      <th>Unnamed: 0</th>\n",
       "      <th>Date</th>\n",
       "      <th>AveragePrice</th>\n",
       "      <th>Total Volume</th>\n",
       "      <th>4046</th>\n",
       "      <th>4225</th>\n",
       "      <th>4770</th>\n",
       "      <th>Total Bags</th>\n",
       "      <th>Small Bags</th>\n",
       "      <th>Large Bags</th>\n",
       "      <th>XLarge Bags</th>\n",
       "      <th>type</th>\n",
       "      <th>year</th>\n",
       "      <th>region</th>\n",
       "    </tr>\n",
       "  </thead>\n",
       "  <tbody>\n",
       "    <tr>\n",
       "      <th>0</th>\n",
       "      <td>0</td>\n",
       "      <td>2015-12-27</td>\n",
       "      <td>1.33</td>\n",
       "      <td>64236.62</td>\n",
       "      <td>1036.74</td>\n",
       "      <td>54454.85</td>\n",
       "      <td>48.16</td>\n",
       "      <td>8696.87</td>\n",
       "      <td>8603.62</td>\n",
       "      <td>93.25</td>\n",
       "      <td>0.0</td>\n",
       "      <td>conventional</td>\n",
       "      <td>2015</td>\n",
       "      <td>Albany</td>\n",
       "    </tr>\n",
       "    <tr>\n",
       "      <th>1</th>\n",
       "      <td>1</td>\n",
       "      <td>2015-12-20</td>\n",
       "      <td>1.35</td>\n",
       "      <td>54876.98</td>\n",
       "      <td>674.28</td>\n",
       "      <td>44638.81</td>\n",
       "      <td>58.33</td>\n",
       "      <td>9505.56</td>\n",
       "      <td>9408.07</td>\n",
       "      <td>97.49</td>\n",
       "      <td>0.0</td>\n",
       "      <td>conventional</td>\n",
       "      <td>2015</td>\n",
       "      <td>Albany</td>\n",
       "    </tr>\n",
       "    <tr>\n",
       "      <th>2</th>\n",
       "      <td>2</td>\n",
       "      <td>2015-12-13</td>\n",
       "      <td>0.93</td>\n",
       "      <td>118220.22</td>\n",
       "      <td>794.70</td>\n",
       "      <td>109149.67</td>\n",
       "      <td>130.50</td>\n",
       "      <td>8145.35</td>\n",
       "      <td>8042.21</td>\n",
       "      <td>103.14</td>\n",
       "      <td>0.0</td>\n",
       "      <td>conventional</td>\n",
       "      <td>2015</td>\n",
       "      <td>Albany</td>\n",
       "    </tr>\n",
       "    <tr>\n",
       "      <th>3</th>\n",
       "      <td>3</td>\n",
       "      <td>2015-12-06</td>\n",
       "      <td>1.08</td>\n",
       "      <td>78992.15</td>\n",
       "      <td>1132.00</td>\n",
       "      <td>71976.41</td>\n",
       "      <td>72.58</td>\n",
       "      <td>5811.16</td>\n",
       "      <td>5677.40</td>\n",
       "      <td>133.76</td>\n",
       "      <td>0.0</td>\n",
       "      <td>conventional</td>\n",
       "      <td>2015</td>\n",
       "      <td>Albany</td>\n",
       "    </tr>\n",
       "    <tr>\n",
       "      <th>4</th>\n",
       "      <td>4</td>\n",
       "      <td>2015-11-29</td>\n",
       "      <td>1.28</td>\n",
       "      <td>51039.60</td>\n",
       "      <td>941.48</td>\n",
       "      <td>43838.39</td>\n",
       "      <td>75.78</td>\n",
       "      <td>6183.95</td>\n",
       "      <td>5986.26</td>\n",
       "      <td>197.69</td>\n",
       "      <td>0.0</td>\n",
       "      <td>conventional</td>\n",
       "      <td>2015</td>\n",
       "      <td>Albany</td>\n",
       "    </tr>\n",
       "  </tbody>\n",
       "</table>\n",
       "</div>"
      ],
      "text/plain": [
       "   Unnamed: 0        Date  AveragePrice  Total Volume     4046       4225  \\\n",
       "0           0  2015-12-27          1.33      64236.62  1036.74   54454.85   \n",
       "1           1  2015-12-20          1.35      54876.98   674.28   44638.81   \n",
       "2           2  2015-12-13          0.93     118220.22   794.70  109149.67   \n",
       "3           3  2015-12-06          1.08      78992.15  1132.00   71976.41   \n",
       "4           4  2015-11-29          1.28      51039.60   941.48   43838.39   \n",
       "\n",
       "     4770  Total Bags  Small Bags  Large Bags  XLarge Bags          type  \\\n",
       "0   48.16     8696.87     8603.62       93.25          0.0  conventional   \n",
       "1   58.33     9505.56     9408.07       97.49          0.0  conventional   \n",
       "2  130.50     8145.35     8042.21      103.14          0.0  conventional   \n",
       "3   72.58     5811.16     5677.40      133.76          0.0  conventional   \n",
       "4   75.78     6183.95     5986.26      197.69          0.0  conventional   \n",
       "\n",
       "   year  region  \n",
       "0  2015  Albany  \n",
       "1  2015  Albany  \n",
       "2  2015  Albany  \n",
       "3  2015  Albany  \n",
       "4  2015  Albany  "
      ]
     },
     "execution_count": 2,
     "metadata": {},
     "output_type": "execute_result"
    }
   ],
   "source": [
    "# write your code here\n",
    "data = pd.read_csv('avocado.csv')\n",
    "data.head()"
   ]
  },
  {
   "cell_type": "markdown",
   "metadata": {},
   "source": [
    "##### 2.\tNotice that the column names are inconsistent. Change the column names so they all use title case with no spaces."
   ]
  },
  {
   "cell_type": "code",
   "execution_count": 3,
   "metadata": {},
   "outputs": [
    {
     "name": "stdout",
     "output_type": "stream",
     "text": [
      "<class 'pandas.core.frame.DataFrame'>\n",
      "RangeIndex: 18249 entries, 0 to 18248\n",
      "Data columns (total 14 columns):\n",
      " #   Column        Non-Null Count  Dtype  \n",
      "---  ------        --------------  -----  \n",
      " 0   Unnamed:0     18249 non-null  int64  \n",
      " 1   Date          18249 non-null  object \n",
      " 2   AveragePrice  18249 non-null  float64\n",
      " 3   TotalVolume   18249 non-null  float64\n",
      " 4   4046          18249 non-null  float64\n",
      " 5   4225          18249 non-null  float64\n",
      " 6   4770          18249 non-null  float64\n",
      " 7   TotalBags     18249 non-null  float64\n",
      " 8   SmallBags     18249 non-null  float64\n",
      " 9   LargeBags     18249 non-null  float64\n",
      " 10  XlargeBags    18249 non-null  float64\n",
      " 11  Type          18249 non-null  object \n",
      " 12  Year          18249 non-null  int64  \n",
      " 13  Region        18249 non-null  object \n",
      "dtypes: float64(9), int64(2), object(3)\n",
      "memory usage: 1.9+ MB\n"
     ]
    }
   ],
   "source": [
    "# write your code here\n",
    "\n",
    "# convert the columns to a list\n",
    "# create a new list with the formatted column names\n",
    "# assign the list of columns to the columns attribute    \n",
    "# rename the Averageprice column to AveragePrice\n",
    "# check that the columns have been renamed\n",
    "\n",
    "column_list     = data.columns.tolist(); # Similar to JS spread syntax.\n",
    "formttd_cols    = []\n",
    "\n",
    "for col in column_list:\n",
    "    new_col = ''.join(col.title().split(' ')) # Does not handle cases such as converting \"Helloworld\" to \"HelloWorld\"\n",
    "    formttd_cols.append(new_col)\n",
    "\n",
    "data.columns = formttd_cols # The `AveragePrice` column is already named correctly.\n",
    "\n",
    "data.rename(columns={'Averageprice': 'AveragePrice'}, inplace=True)\n",
    "\n",
    "data.info()"
   ]
  },
  {
   "cell_type": "markdown",
   "metadata": {},
   "source": [
    "##### 3.\tAdd a column with the percentage of the bags in the TotalBags column that are extra-large bags."
   ]
  },
  {
   "cell_type": "code",
   "execution_count": 4,
   "metadata": {},
   "outputs": [
    {
     "name": "stdout",
     "output_type": "stream",
     "text": [
      "<class 'pandas.core.frame.DataFrame'>\n",
      "RangeIndex: 18249 entries, 0 to 18248\n",
      "Data columns (total 15 columns):\n",
      " #   Column             Non-Null Count  Dtype  \n",
      "---  ------             --------------  -----  \n",
      " 0   Unnamed:0          18249 non-null  int64  \n",
      " 1   Date               18249 non-null  object \n",
      " 2   AveragePrice       18249 non-null  float64\n",
      " 3   TotalVolume        18249 non-null  float64\n",
      " 4   4046               18249 non-null  float64\n",
      " 5   4225               18249 non-null  float64\n",
      " 6   4770               18249 non-null  float64\n",
      " 7   TotalBags          18249 non-null  float64\n",
      " 8   SmallBags          18249 non-null  float64\n",
      " 9   LargeBags          18249 non-null  float64\n",
      " 10  XlargeBags         18249 non-null  float64\n",
      " 11  Type               18249 non-null  object \n",
      " 12  Year               18249 non-null  int64  \n",
      " 13  Region             18249 non-null  object \n",
      " 14  XLargeBagsPercent  18234 non-null  float64\n",
      "dtypes: float64(10), int64(2), object(3)\n",
      "memory usage: 2.1+ MB\n"
     ]
    }
   ],
   "source": [
    "# write your code here\n",
    "data['XLargeBagsPercent'] = data['XlargeBags'] / data['TotalBags']\n",
    "data.info()"
   ]
  },
  {
   "cell_type": "markdown",
   "metadata": {},
   "source": [
    "##### 4.\tAdd a column with the percentage of the bags in the TotalBags column that are large bags."
   ]
  },
  {
   "cell_type": "code",
   "execution_count": 5,
   "metadata": {},
   "outputs": [
    {
     "name": "stdout",
     "output_type": "stream",
     "text": [
      "<class 'pandas.core.frame.DataFrame'>\n",
      "RangeIndex: 18249 entries, 0 to 18248\n",
      "Data columns (total 16 columns):\n",
      " #   Column             Non-Null Count  Dtype  \n",
      "---  ------             --------------  -----  \n",
      " 0   Unnamed:0          18249 non-null  int64  \n",
      " 1   Date               18249 non-null  object \n",
      " 2   AveragePrice       18249 non-null  float64\n",
      " 3   TotalVolume        18249 non-null  float64\n",
      " 4   4046               18249 non-null  float64\n",
      " 5   4225               18249 non-null  float64\n",
      " 6   4770               18249 non-null  float64\n",
      " 7   TotalBags          18249 non-null  float64\n",
      " 8   SmallBags          18249 non-null  float64\n",
      " 9   LargeBags          18249 non-null  float64\n",
      " 10  XlargeBags         18249 non-null  float64\n",
      " 11  Type               18249 non-null  object \n",
      " 12  Year               18249 non-null  int64  \n",
      " 13  Region             18249 non-null  object \n",
      " 14  XLargeBagsPercent  18234 non-null  float64\n",
      " 15  LargeBagsPercent   18234 non-null  float64\n",
      "dtypes: float64(11), int64(2), object(3)\n",
      "memory usage: 2.2+ MB\n"
     ]
    }
   ],
   "source": [
    "# write your code here\n",
    "data['LargeBagsPercent'] = data['LargeBags'] / data['TotalBags']\n",
    "data.info()\n"
   ]
  },
  {
   "cell_type": "markdown",
   "metadata": {},
   "source": [
    "##### 5.\tAdd a column with the percentage of the bags in the TotalBags column that are small bags."
   ]
  },
  {
   "cell_type": "code",
   "execution_count": 6,
   "metadata": {},
   "outputs": [
    {
     "name": "stdout",
     "output_type": "stream",
     "text": [
      "<class 'pandas.core.frame.DataFrame'>\n",
      "RangeIndex: 18249 entries, 0 to 18248\n",
      "Data columns (total 17 columns):\n",
      " #   Column             Non-Null Count  Dtype  \n",
      "---  ------             --------------  -----  \n",
      " 0   Unnamed:0          18249 non-null  int64  \n",
      " 1   Date               18249 non-null  object \n",
      " 2   AveragePrice       18249 non-null  float64\n",
      " 3   TotalVolume        18249 non-null  float64\n",
      " 4   4046               18249 non-null  float64\n",
      " 5   4225               18249 non-null  float64\n",
      " 6   4770               18249 non-null  float64\n",
      " 7   TotalBags          18249 non-null  float64\n",
      " 8   SmallBags          18249 non-null  float64\n",
      " 9   LargeBags          18249 non-null  float64\n",
      " 10  XlargeBags         18249 non-null  float64\n",
      " 11  Type               18249 non-null  object \n",
      " 12  Year               18249 non-null  int64  \n",
      " 13  Region             18249 non-null  object \n",
      " 14  XLargeBagsPercent  18234 non-null  float64\n",
      " 15  LargeBagsPercent   18234 non-null  float64\n",
      " 16  SmallBagsPercent   18234 non-null  float64\n",
      "dtypes: float64(12), int64(2), object(3)\n",
      "memory usage: 2.4+ MB\n"
     ]
    }
   ],
   "source": [
    "# write your code here\n",
    "data['SmallBagsPercent'] = data['SmallBags'] / data['TotalBags']\n",
    "data.info()"
   ]
  },
  {
   "cell_type": "markdown",
   "metadata": {},
   "source": [
    "##### 6.\tDisplay the first five rows of data to view the new columns."
   ]
  },
  {
   "cell_type": "code",
   "execution_count": 7,
   "metadata": {},
   "outputs": [
    {
     "data": {
      "text/html": [
       "<div>\n",
       "<style scoped>\n",
       "    .dataframe tbody tr th:only-of-type {\n",
       "        vertical-align: middle;\n",
       "    }\n",
       "\n",
       "    .dataframe tbody tr th {\n",
       "        vertical-align: top;\n",
       "    }\n",
       "\n",
       "    .dataframe thead th {\n",
       "        text-align: right;\n",
       "    }\n",
       "</style>\n",
       "<table border=\"1\" class=\"dataframe\">\n",
       "  <thead>\n",
       "    <tr style=\"text-align: right;\">\n",
       "      <th></th>\n",
       "      <th>Unnamed:0</th>\n",
       "      <th>Date</th>\n",
       "      <th>AveragePrice</th>\n",
       "      <th>TotalVolume</th>\n",
       "      <th>4046</th>\n",
       "      <th>4225</th>\n",
       "      <th>4770</th>\n",
       "      <th>TotalBags</th>\n",
       "      <th>SmallBags</th>\n",
       "      <th>LargeBags</th>\n",
       "      <th>XlargeBags</th>\n",
       "      <th>Type</th>\n",
       "      <th>Year</th>\n",
       "      <th>Region</th>\n",
       "      <th>XLargeBagsPercent</th>\n",
       "      <th>LargeBagsPercent</th>\n",
       "      <th>SmallBagsPercent</th>\n",
       "    </tr>\n",
       "  </thead>\n",
       "  <tbody>\n",
       "    <tr>\n",
       "      <th>0</th>\n",
       "      <td>0</td>\n",
       "      <td>2015-12-27</td>\n",
       "      <td>1.33</td>\n",
       "      <td>64236.62</td>\n",
       "      <td>1036.74</td>\n",
       "      <td>54454.85</td>\n",
       "      <td>48.16</td>\n",
       "      <td>8696.87</td>\n",
       "      <td>8603.62</td>\n",
       "      <td>93.25</td>\n",
       "      <td>0.0</td>\n",
       "      <td>conventional</td>\n",
       "      <td>2015</td>\n",
       "      <td>Albany</td>\n",
       "      <td>0.0</td>\n",
       "      <td>0.010722</td>\n",
       "      <td>0.989278</td>\n",
       "    </tr>\n",
       "    <tr>\n",
       "      <th>1</th>\n",
       "      <td>1</td>\n",
       "      <td>2015-12-20</td>\n",
       "      <td>1.35</td>\n",
       "      <td>54876.98</td>\n",
       "      <td>674.28</td>\n",
       "      <td>44638.81</td>\n",
       "      <td>58.33</td>\n",
       "      <td>9505.56</td>\n",
       "      <td>9408.07</td>\n",
       "      <td>97.49</td>\n",
       "      <td>0.0</td>\n",
       "      <td>conventional</td>\n",
       "      <td>2015</td>\n",
       "      <td>Albany</td>\n",
       "      <td>0.0</td>\n",
       "      <td>0.010256</td>\n",
       "      <td>0.989744</td>\n",
       "    </tr>\n",
       "    <tr>\n",
       "      <th>2</th>\n",
       "      <td>2</td>\n",
       "      <td>2015-12-13</td>\n",
       "      <td>0.93</td>\n",
       "      <td>118220.22</td>\n",
       "      <td>794.70</td>\n",
       "      <td>109149.67</td>\n",
       "      <td>130.50</td>\n",
       "      <td>8145.35</td>\n",
       "      <td>8042.21</td>\n",
       "      <td>103.14</td>\n",
       "      <td>0.0</td>\n",
       "      <td>conventional</td>\n",
       "      <td>2015</td>\n",
       "      <td>Albany</td>\n",
       "      <td>0.0</td>\n",
       "      <td>0.012662</td>\n",
       "      <td>0.987338</td>\n",
       "    </tr>\n",
       "    <tr>\n",
       "      <th>3</th>\n",
       "      <td>3</td>\n",
       "      <td>2015-12-06</td>\n",
       "      <td>1.08</td>\n",
       "      <td>78992.15</td>\n",
       "      <td>1132.00</td>\n",
       "      <td>71976.41</td>\n",
       "      <td>72.58</td>\n",
       "      <td>5811.16</td>\n",
       "      <td>5677.40</td>\n",
       "      <td>133.76</td>\n",
       "      <td>0.0</td>\n",
       "      <td>conventional</td>\n",
       "      <td>2015</td>\n",
       "      <td>Albany</td>\n",
       "      <td>0.0</td>\n",
       "      <td>0.023018</td>\n",
       "      <td>0.976982</td>\n",
       "    </tr>\n",
       "    <tr>\n",
       "      <th>4</th>\n",
       "      <td>4</td>\n",
       "      <td>2015-11-29</td>\n",
       "      <td>1.28</td>\n",
       "      <td>51039.60</td>\n",
       "      <td>941.48</td>\n",
       "      <td>43838.39</td>\n",
       "      <td>75.78</td>\n",
       "      <td>6183.95</td>\n",
       "      <td>5986.26</td>\n",
       "      <td>197.69</td>\n",
       "      <td>0.0</td>\n",
       "      <td>conventional</td>\n",
       "      <td>2015</td>\n",
       "      <td>Albany</td>\n",
       "      <td>0.0</td>\n",
       "      <td>0.031968</td>\n",
       "      <td>0.968032</td>\n",
       "    </tr>\n",
       "  </tbody>\n",
       "</table>\n",
       "</div>"
      ],
      "text/plain": [
       "   Unnamed:0        Date  AveragePrice  TotalVolume     4046       4225  \\\n",
       "0          0  2015-12-27          1.33     64236.62  1036.74   54454.85   \n",
       "1          1  2015-12-20          1.35     54876.98   674.28   44638.81   \n",
       "2          2  2015-12-13          0.93    118220.22   794.70  109149.67   \n",
       "3          3  2015-12-06          1.08     78992.15  1132.00   71976.41   \n",
       "4          4  2015-11-29          1.28     51039.60   941.48   43838.39   \n",
       "\n",
       "     4770  TotalBags  SmallBags  LargeBags  XlargeBags          Type  Year  \\\n",
       "0   48.16    8696.87    8603.62      93.25         0.0  conventional  2015   \n",
       "1   58.33    9505.56    9408.07      97.49         0.0  conventional  2015   \n",
       "2  130.50    8145.35    8042.21     103.14         0.0  conventional  2015   \n",
       "3   72.58    5811.16    5677.40     133.76         0.0  conventional  2015   \n",
       "4   75.78    6183.95    5986.26     197.69         0.0  conventional  2015   \n",
       "\n",
       "   Region  XLargeBagsPercent  LargeBagsPercent  SmallBagsPercent  \n",
       "0  Albany                0.0          0.010722          0.989278  \n",
       "1  Albany                0.0          0.010256          0.989744  \n",
       "2  Albany                0.0          0.012662          0.987338  \n",
       "3  Albany                0.0          0.023018          0.976982  \n",
       "4  Albany                0.0          0.031968          0.968032  "
      ]
     },
     "execution_count": 7,
     "metadata": {},
     "output_type": "execute_result"
    }
   ],
   "source": [
    "# write your code here\n",
    "data.head(5)\n"
   ]
  },
  {
   "cell_type": "markdown",
   "metadata": {},
   "source": [
    "##### 7.\tAssign the Region, Type, Year, and TotalBags columns to a new DataFrame."
   ]
  },
  {
   "cell_type": "code",
   "execution_count": 8,
   "metadata": {},
   "outputs": [
    {
     "name": "stdout",
     "output_type": "stream",
     "text": [
      "                 Region          Type  Year  TotalBags\n",
      "0                Albany  conventional  2015    8696.87\n",
      "1                Albany  conventional  2015    9505.56\n",
      "2                Albany  conventional  2015    8145.35\n",
      "3                Albany  conventional  2015    5811.16\n",
      "4                Albany  conventional  2015    6183.95\n",
      "...                 ...           ...   ...        ...\n",
      "18244  WestTexNewMexico       organic  2018   13498.67\n",
      "18245  WestTexNewMexico       organic  2018    9264.84\n",
      "18246  WestTexNewMexico       organic  2018    9394.11\n",
      "18247  WestTexNewMexico       organic  2018   10969.54\n",
      "18248  WestTexNewMexico       organic  2018   12014.15\n",
      "\n",
      "[18249 rows x 4 columns]\n"
     ]
    }
   ],
   "source": [
    "# write your code here\n",
    "info = data[['Region','Type','Year','TotalBags']]\n",
    "print(info)"
   ]
  },
  {
   "cell_type": "markdown",
   "metadata": {},
   "source": [
    "##### 8.\tGroup, sum, and unstack this data to produce a DataFrame that looks like this:\n",
    "\n",
    "<img src=\"p6-8.png\" alt=\"DataFrame\" width=\"330\">"
   ]
  },
  {
   "cell_type": "code",
   "execution_count": 15,
   "metadata": {},
   "outputs": [
    {
     "name": "stdout",
     "output_type": "stream",
     "text": [
      "                                     TotalBags\n",
      "Region           Type         Year            \n",
      "Albany           conventional 2015   662366.17\n",
      "                              2016   759091.14\n",
      "                              2017   699561.17\n",
      "                              2018   245240.75\n",
      "                 organic      2015    57289.43\n",
      "...                                        ...\n",
      "WestTexNewMexico conventional 2018  3547372.46\n",
      "                 organic      2015   128763.94\n",
      "                              2016   403881.08\n",
      "                              2017   602152.24\n",
      "                              2018   149141.90\n",
      "\n",
      "[432 rows x 1 columns]\n",
      "                         TotalBags            \n",
      "Type                  conventional     organic\n",
      "Region           Year                         \n",
      "Albany           2015    662366.17    57289.43\n",
      "                 2016    759091.14    79208.77\n",
      "                 2017    699561.17   135944.43\n",
      "                 2018    245240.75    41552.75\n",
      "Atlanta          2015   2935925.63    61065.24\n",
      "...                            ...         ...\n",
      "West             2018  35978608.70  2074684.34\n",
      "WestTexNewMexico 2015   5399316.40   128763.94\n",
      "                 2016  10870856.07   403881.08\n",
      "                 2017  14195031.44   602152.24\n",
      "                 2018   3547372.46   149141.90\n",
      "\n",
      "[216 rows x 2 columns]\n"
     ]
    }
   ],
   "source": [
    "# write your code here\n",
    "\n",
    "# group the data by Region, Type, and Year, and sum the values in each group\n",
    "grouped = info.groupby(['Region', 'Type', 'Year']).sum()\n",
    "\n",
    "print(grouped)\n",
    "\n",
    "# unstack the Type level of the index to create separate columns for conventional and organic Total Volume in each Region-Year combination\n",
    "grouped = grouped.unstack('Type') # Widen the dataset on the `Type` column.\n",
    "\n",
    "print(grouped)"
   ]
  },
  {
   "cell_type": "code",
   "execution_count": null,
   "metadata": {},
   "outputs": [],
   "source": []
  }
 ],
 "metadata": {
  "kernelspec": {
   "display_name": "Python 3 (ipykernel)",
   "language": "python",
   "name": "python3"
  },
  "language_info": {
   "codemirror_mode": {
    "name": "ipython",
    "version": 3
   },
   "file_extension": ".py",
   "mimetype": "text/x-python",
   "name": "python",
   "nbconvert_exporter": "python",
   "pygments_lexer": "ipython3",
   "version": "3.10.12"
  }
 },
 "nbformat": 4,
 "nbformat_minor": 4
}
