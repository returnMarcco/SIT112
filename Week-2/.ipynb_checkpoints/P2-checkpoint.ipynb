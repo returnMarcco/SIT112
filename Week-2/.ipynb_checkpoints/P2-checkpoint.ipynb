{
 "cells": [
  {
   "cell_type": "markdown",
   "metadata": {
    "tags": []
   },
   "source": [
    "# **Task P2**\n",
    "## Analyzing the Avocado Data\n",
    "##### This task uses the avocado dataset. The dataset contains historical data on avocado prices and sales volume in multiple U.S. markets. One of the columns in this dataset, Unnamed: 0, contains sequential numbers that are irrelevant to analyzing this data. Three of the other columns contain sales for PLU (price look-up) codes 4046, 4225, and 4770. These columns will not be used in this task. If you review the data, you’ll see that some of the regions overlap. For example, one of the regions is the entire U.S., and all the other regions are parts of the U.S. Because of that, you would need to review this data carefully before determining the best way to analyze it. For the purposes of this task though, the overlapping regions won’t be taken into consideration.\n",
    "\n",
    "##### https://www.kaggle.com/neuromusic/avocado-prices\n",
    "\n",
    "<img src=\"avocado-logo.png\" alt=\"SIT112 Avocado!\" width=\"1800\" height=\"200\">\n"
   ]
  },
  {
   "cell_type": "markdown",
   "metadata": {},
   "source": [
    "### A. Instructions\n",
    "\n",
    "1. Complete this task without looking at the solution notebook. \n",
    "2. You can then look at the solution notebook and compare it against yours.\n",
    "3. Complete and submit the TaskCompletionReport form in PDF format using Ontrack. You can do this by the end of Week 12, but feedback will only be provided for submissions received by 11 AM of the due date.\n",
    "4. Do **not** include the solution (yours or the one provided to you) in your submission.\n",
    "5. The workshops are the primary venue for you to seek help if you need any clarification/assitance. The tutors are there to help you complete and submit the tasks. Please avoid emailing your code or screenshots to the tutors outside workshop hours. \n",
    "6. Consider using online resources such as ChatGPT to strengthen your understanding of the task. \n",
    "\n",
    "Good luck :)"
   ]
  },
  {
   "cell_type": "markdown",
   "metadata": {},
   "source": [
    "### B. Write Python code that performs (answers) the following operations (questions) "
   ]
  },
  {
   "cell_type": "code",
   "metadata": {
    "ExecuteTime": {
     "end_time": "2024-07-27T10:43:23.687535Z",
     "start_time": "2024-07-27T10:43:23.684499Z"
    }
   },
   "source": [
    "# Import the pandas library and alias it as \"pd\"\n",
    "import pandas as pd\n",
    "import matplotlib.pyplot as plt"
   ],
   "outputs": [],
   "execution_count": 1403
  },
  {
   "cell_type": "markdown",
   "metadata": {},
   "source": [
    "##### 1. Read the data from the CSV file into a DataFrame."
   ]
  },
  {
   "cell_type": "code",
   "metadata": {
    "ExecuteTime": {
     "end_time": "2024-07-27T10:43:23.866747Z",
     "start_time": "2024-07-27T10:43:23.829521Z"
    }
   },
   "source": [
    "# write your code here\n",
    "\n",
    "# Read the csv file 'avocado.csv' and store it in a variable called 'data'\n",
    "data = pd.read_csv('../avocado.csv')"
   ],
   "outputs": [],
   "execution_count": 1404
  },
  {
   "cell_type": "markdown",
   "metadata": {},
   "source": [
    "##### 2. Display type, memory consumption, and null count information using the info() method."
   ]
  },
  {
   "cell_type": "code",
   "metadata": {
    "ExecuteTime": {
     "end_time": "2024-07-27T10:43:23.876205Z",
     "start_time": "2024-07-27T10:43:23.868462Z"
    }
   },
   "source": [
    "# write your code here\n",
    "data.info()"
   ],
   "outputs": [
    {
     "name": "stdout",
     "output_type": "stream",
     "text": [
      "<class 'pandas.core.frame.DataFrame'>\n",
      "RangeIndex: 18249 entries, 0 to 18248\n",
      "Data columns (total 14 columns):\n",
      " #   Column        Non-Null Count  Dtype  \n",
      "---  ------        --------------  -----  \n",
      " 0   Unnamed: 0    18249 non-null  int64  \n",
      " 1   Date          18249 non-null  object \n",
      " 2   AveragePrice  18249 non-null  float64\n",
      " 3   Total Volume  18249 non-null  float64\n",
      " 4   4046          18249 non-null  float64\n",
      " 5   4225          18249 non-null  float64\n",
      " 6   4770          18249 non-null  float64\n",
      " 7   Total Bags    18249 non-null  float64\n",
      " 8   Small Bags    18249 non-null  float64\n",
      " 9   Large Bags    18249 non-null  float64\n",
      " 10  XLarge Bags   18249 non-null  float64\n",
      " 11  type          18249 non-null  object \n",
      " 12  year          18249 non-null  int64  \n",
      " 13  region        18249 non-null  object \n",
      "dtypes: float64(9), int64(2), object(3)\n",
      "memory usage: 1.9+ MB\n"
     ]
    }
   ],
   "execution_count": 1405
  },
  {
   "cell_type": "markdown",
   "metadata": {},
   "source": [
    "##### 3. Display the number of unique values in each column."
   ]
  },
  {
   "cell_type": "code",
   "metadata": {
    "ExecuteTime": {
     "end_time": "2024-07-27T10:43:23.893163Z",
     "start_time": "2024-07-27T10:43:23.877991Z"
    }
   },
   "source": [
    "# write your code here\n",
    "data.nunique()"
   ],
   "outputs": [
    {
     "data": {
      "text/plain": [
       "Unnamed: 0         53\n",
       "Date              169\n",
       "AveragePrice      259\n",
       "Total Volume    18237\n",
       "4046            17702\n",
       "4225            18103\n",
       "4770            12071\n",
       "Total Bags      18097\n",
       "Small Bags      17321\n",
       "Large Bags      15082\n",
       "XLarge Bags      5588\n",
       "type                2\n",
       "year                4\n",
       "region             54\n",
       "dtype: int64"
      ]
     },
     "execution_count": 1406,
     "metadata": {},
     "output_type": "execute_result"
    }
   ],
   "execution_count": 1406
  },
  {
   "cell_type": "markdown",
   "metadata": {},
   "source": [
    "##### 4. Display all the rows of data that JupyterLab displays by default."
   ]
  },
  {
   "cell_type": "code",
   "metadata": {
    "ExecuteTime": {
     "end_time": "2024-07-27T10:43:23.897512Z",
     "start_time": "2024-07-27T10:43:23.894676Z"
    }
   },
   "source": [
    "# write your code here\n",
    "display()"
   ],
   "outputs": [],
   "execution_count": 1407
  },
  {
   "cell_type": "markdown",
   "metadata": {},
   "source": [
    "##### 5. Display the first and last five rows of data and the first and last four columns of data."
   ]
  },
  {
   "cell_type": "code",
   "metadata": {
    "ExecuteTime": {
     "end_time": "2024-07-27T10:43:23.906189Z",
     "start_time": "2024-07-27T10:43:23.899469Z"
    }
   },
   "source": [
    "# write your code here\n",
    "df_five_head_rows = data.head(5)\n",
    "df_five_tail_rows = data.tail(5)\n",
    "\n",
    "df_four_head_cols = data.iloc[:, 4]\n",
    "df_four_tail_cols = data.iloc[:, -4] # negative indexing starts from the last element in the dataset\n",
    "\n",
    "# Concatenate the first 4 and last 4 columns\n",
    "result = pd.concat([df_four_tail_cols, df_four_tail_cols], axis=1)\n",
    "\n",
    "print(result)"
   ],
   "outputs": [
    {
     "name": "stdout",
     "output_type": "stream",
     "text": [
      "       XLarge Bags  XLarge Bags\n",
      "0              0.0          0.0\n",
      "1              0.0          0.0\n",
      "2              0.0          0.0\n",
      "3              0.0          0.0\n",
      "4              0.0          0.0\n",
      "...            ...          ...\n",
      "18244          0.0          0.0\n",
      "18245          0.0          0.0\n",
      "18246          0.0          0.0\n",
      "18247          0.0          0.0\n",
      "18248          0.0          0.0\n",
      "\n",
      "[18249 rows x 2 columns]\n"
     ]
    }
   ],
   "execution_count": 1408
  },
  {
   "cell_type": "markdown",
   "metadata": {},
   "source": [
    "##### 6. Choose any three columns, access them with bracket notation, and display the first five rows of this data."
   ]
  },
  {
   "cell_type": "code",
   "metadata": {
    "ExecuteTime": {
     "end_time": "2024-07-27T10:43:23.912853Z",
     "start_time": "2024-07-27T10:43:23.907470Z"
    }
   },
   "source": [
    "# write your code here\n",
    "print(data[['Date', 'type', 'region']].head(5))"
   ],
   "outputs": [
    {
     "name": "stdout",
     "output_type": "stream",
     "text": [
      "         Date          type  region\n",
      "0  2015-12-27  conventional  Albany\n",
      "1  2015-12-20  conventional  Albany\n",
      "2  2015-12-13  conventional  Albany\n",
      "3  2015-12-06  conventional  Albany\n",
      "4  2015-11-29  conventional  Albany\n"
     ]
    }
   ],
   "execution_count": 1409
  },
  {
   "cell_type": "markdown",
   "metadata": {},
   "source": [
    "##### 7. Select one column and access it with dot notation."
   ]
  },
  {
   "cell_type": "code",
   "metadata": {
    "ExecuteTime": {
     "end_time": "2024-07-27T10:43:23.921597Z",
     "start_time": "2024-07-27T10:43:23.914495Z"
    }
   },
   "source": [
    "# write your code here\n",
    "print(data.Date)"
   ],
   "outputs": [
    {
     "name": "stdout",
     "output_type": "stream",
     "text": [
      "0        2015-12-27\n",
      "1        2015-12-20\n",
      "2        2015-12-13\n",
      "3        2015-12-06\n",
      "4        2015-11-29\n",
      "            ...    \n",
      "18244    2018-02-04\n",
      "18245    2018-01-28\n",
      "18246    2018-01-21\n",
      "18247    2018-01-14\n",
      "18248    2018-01-07\n",
      "Name: Date, Length: 18249, dtype: object\n"
     ]
    }
   ],
   "execution_count": 1410
  },
  {
   "cell_type": "markdown",
   "metadata": {},
   "source": [
    "##### 8. Multiply the Total Volume and AveragePrice columns, and store the result in a new column called EstimatedRevenue. Then, display the first five rows of this data to confirm that the column was added and has the correct values."
   ]
  },
  {
   "cell_type": "code",
   "metadata": {
    "ExecuteTime": {
     "end_time": "2024-07-27T10:43:23.942695Z",
     "start_time": "2024-07-27T10:43:23.923335Z"
    }
   },
   "source": [
    "# write your code here\n",
    "# Before appending generated column\n",
    "print (data.head(5))\n",
    "\n",
    "# After appending generated column\n",
    "data['EstimatedRevenue'] = ( data['Total Volume'] * data['AveragePrice'] )\n",
    "print(data.head(5))"
   ],
   "outputs": [
    {
     "name": "stdout",
     "output_type": "stream",
     "text": [
      "   Unnamed: 0        Date  AveragePrice  Total Volume     4046       4225  \\\n",
      "0           0  2015-12-27          1.33      64236.62  1036.74   54454.85   \n",
      "1           1  2015-12-20          1.35      54876.98   674.28   44638.81   \n",
      "2           2  2015-12-13          0.93     118220.22   794.70  109149.67   \n",
      "3           3  2015-12-06          1.08      78992.15  1132.00   71976.41   \n",
      "4           4  2015-11-29          1.28      51039.60   941.48   43838.39   \n",
      "\n",
      "     4770  Total Bags  Small Bags  Large Bags  XLarge Bags          type  \\\n",
      "0   48.16     8696.87     8603.62       93.25          0.0  conventional   \n",
      "1   58.33     9505.56     9408.07       97.49          0.0  conventional   \n",
      "2  130.50     8145.35     8042.21      103.14          0.0  conventional   \n",
      "3   72.58     5811.16     5677.40      133.76          0.0  conventional   \n",
      "4   75.78     6183.95     5986.26      197.69          0.0  conventional   \n",
      "\n",
      "   year  region  \n",
      "0  2015  Albany  \n",
      "1  2015  Albany  \n",
      "2  2015  Albany  \n",
      "3  2015  Albany  \n",
      "4  2015  Albany  \n",
      "   Unnamed: 0        Date  AveragePrice  Total Volume     4046       4225  \\\n",
      "0           0  2015-12-27          1.33      64236.62  1036.74   54454.85   \n",
      "1           1  2015-12-20          1.35      54876.98   674.28   44638.81   \n",
      "2           2  2015-12-13          0.93     118220.22   794.70  109149.67   \n",
      "3           3  2015-12-06          1.08      78992.15  1132.00   71976.41   \n",
      "4           4  2015-11-29          1.28      51039.60   941.48   43838.39   \n",
      "\n",
      "     4770  Total Bags  Small Bags  Large Bags  XLarge Bags          type  \\\n",
      "0   48.16     8696.87     8603.62       93.25          0.0  conventional   \n",
      "1   58.33     9505.56     9408.07       97.49          0.0  conventional   \n",
      "2  130.50     8145.35     8042.21      103.14          0.0  conventional   \n",
      "3   72.58     5811.16     5677.40      133.76          0.0  conventional   \n",
      "4   75.78     6183.95     5986.26      197.69          0.0  conventional   \n",
      "\n",
      "   year  region  EstimatedRevenue  \n",
      "0  2015  Albany        85434.7046  \n",
      "1  2015  Albany        74083.9230  \n",
      "2  2015  Albany       109944.8046  \n",
      "3  2015  Albany        85311.5220  \n",
      "4  2015  Albany        65330.6880  \n"
     ]
    }
   ],
   "execution_count": 1411
  },
  {
   "cell_type": "markdown",
   "metadata": {},
   "source": [
    "##### 9. Create a DataFrame that’s grouped by region and type and that includes the average price for the grouped columns. Then, reset the index and display the first five rows."
   ]
  },
  {
   "cell_type": "code",
   "metadata": {
    "tags": [],
    "ExecuteTime": {
     "end_time": "2024-07-27T10:43:23.960414Z",
     "start_time": "2024-07-27T10:43:23.944575Z"
    }
   },
   "source": [
    "# write your code here\n",
    "# Returns a new `df` - does not modify the original.\n",
    "df_region_grouped = data.groupby(['region', 'type']).AveragePrice.mean().reset_index().head(5)\n",
    "print(df_region_grouped)"
   ],
   "outputs": [
    {
     "name": "stdout",
     "output_type": "stream",
     "text": [
      "                region          type  AveragePrice\n",
      "0               Albany  conventional      1.348757\n",
      "1               Albany       organic      1.773314\n",
      "2              Atlanta  conventional      1.068817\n",
      "3              Atlanta       organic      1.607101\n",
      "4  BaltimoreWashington  conventional      1.344201\n"
     ]
    }
   ],
   "execution_count": 1412
  },
  {
   "cell_type": "markdown",
   "metadata": {},
   "source": [
    "##### 10. Create a bar plot that shows the mean, median, and standard deviation of the Total Volume column by year."
   ]
  },
  {
   "cell_type": "code",
   "metadata": {
    "ExecuteTime": {
     "end_time": "2024-07-27T10:43:24.091761Z",
     "start_time": "2024-07-27T10:43:23.968814Z"
    }
   },
   "source": [
    "# write your code here\n",
    "\n",
    "avo_bar_plot_mean_median_deviation_total_vol = data.groupby('year')['Total Volume'].agg(['mean', 'median', 'std'])\n",
    "plots = avo_bar_plot_mean_median_deviation_total_vol.plot.barh()"
   ],
   "outputs": [
    {
     "data": {
      "text/plain": [
       "<Figure size 640x480 with 1 Axes>"
      ],
      "image/png": "[encoded data removed]"
     },
     "metadata": {},
     "output_type": "display_data"
    }
   ],
   "execution_count": 1413
  },
  {
   "cell_type": "markdown",
   "metadata": {},
   "source": [
    "##### 11. How many unique regions are there?"
   ]
  },
  {
   "cell_type": "code",
   "metadata": {
    "ExecuteTime": {
     "end_time": "2024-07-27T10:43:24.097425Z",
     "start_time": "2024-07-27T10:43:24.093680Z"
    }
   },
   "source": [
    "# write your code here\n",
    "# Note: `nunique()` returns the `count` of unique values, whereas `unique` returns the literal unique values\n",
    "unique_region_count = data['region'].nunique()\n",
    "print(unique_region_count)"
   ],
   "outputs": [
    {
     "name": "stdout",
     "output_type": "stream",
     "text": [
      "54\n"
     ]
    }
   ],
   "execution_count": 1414
  },
  {
   "cell_type": "markdown",
   "metadata": {},
   "source": [
    "##### 12. What is the average price for each type of avocado (organic and conventional)? Be sure to include just the type and AveragePrice columns in the results."
   ]
  },
  {
   "cell_type": "code",
   "metadata": {
    "ExecuteTime": {
     "end_time": "2024-07-27T10:43:24.104738Z",
     "start_time": "2024-07-27T10:43:24.098864Z"
    }
   },
   "source": [
    "# write your code here\n",
    "\n",
    "# Workflow -> 1) Group data by type (2x groups, avg price)\n",
    "\n",
    "df_group_by_avo_type = data.groupby(['type']).AveragePrice.mean().reset_index()\n",
    "\n",
    "print(df_group_by_avo_type)"
   ],
   "outputs": [
    {
     "name": "stdout",
     "output_type": "stream",
     "text": [
      "           type  AveragePrice\n",
      "0  conventional      1.158040\n",
      "1       organic      1.653999\n"
     ]
    }
   ],
   "execution_count": 1415
  },
  {
   "cell_type": "markdown",
   "metadata": {},
   "source": [
    "##### 13. Which region has the lowest average price for organic avocados? Hint: create wide data from the grouped data that you created in section B.9."
   ]
  },
  {
   "cell_type": "code",
   "metadata": {
    "ExecuteTime": {
     "end_time": "2024-07-27T10:43:24.116707Z",
     "start_time": "2024-07-27T10:43:24.106692Z"
    }
   },
   "source": [
    "# write your code here\n",
    "\n",
    "# Group the data by region and type, calculate the mean AveragePrice,\n",
    "# and then pivot the table to show the AveragePrice by region and type. \n",
    "# then sort the table by organic AveragePrice in ascending order and\n",
    "# display the row with the lowest organic AveragePrice.\n",
    "\n",
    "df_grouped_by_region_and_type = data.groupby(['region', 'type']).AveragePrice.mean().reset_index()\n",
    "\n",
    "# Pivot table here, sort, get the lowest organic AveragePrice (demo chaining)\n",
    "pivot_avo_df_sorted_asc = df_grouped_by_region_and_type.pivot(index='region', columns='type', values='AveragePrice').sort_values(by=['organic'], ascending=True).head(1)\n",
    "print(pivot_avo_df_sorted_asc)"
   ],
   "outputs": [
    {
     "name": "stdout",
     "output_type": "stream",
     "text": [
      "type     conventional   organic\n",
      "region                         \n",
      "Houston      0.825089  1.270769\n"
     ]
    }
   ],
   "execution_count": 1416
  },
  {
   "cell_type": "markdown",
   "metadata": {},
   "source": [
    "##### 14. Have the Total Bags sold per year of each type of avocado become more or less consistent over time? \n",
    "\n",
    "#####  *Use the standard deviation (std), which is a statistical measure of how spread out the data is from the mean. In this case, using std to analyze the Total Bags sold per year of each type of avocado can help us understand how consistent the sales are over time: If the std is high, it means that the Total Bags sold per year vary widely from the mean and are not consistent. On the other hand, if the std is low, it means that the Total Bags sold per year are close to the mean and are consistent.*\n",
    "\n",
    "##### *Therefore, by calculating the std of Total Bags sold per year for each type of avocado, we can determine if the sales have become more or less consistent over time. If the std decreases over time, it means that the sales are becoming more consistent. If the std increases over time, it means that the sales are becoming less consistent.*"
   ]
  },
  {
   "cell_type": "code",
   "metadata": {
    "ExecuteTime": {
     "end_time": "2024-07-27T11:03:06.170995Z",
     "start_time": "2024-07-27T11:03:06.165254Z"
    }
   },
   "source": [
    "# write your code here\n",
    "\n",
    "# Group by 'year' and calculate the total bags sold per year\n",
    "avo_sales_std_per_year = data.groupby('year')['Total Bags'].agg(['mean', 'std']).reset_index()\n",
    "print(avo_sales_std_per_year)"
   ],
   "outputs": [
    {
     "name": "stdout",
     "output_type": "stream",
     "text": [
      "   year           mean           std\n",
      "0  2015  137523.105437  5.473569e+05\n",
      "1  2016  260533.986204  1.022989e+06\n",
      "2  2017  287712.119423  1.126714e+06\n",
      "3  2018  379271.564429  1.478037e+06\n"
     ]
    }
   ],
   "execution_count": 1480
  },
  {
   "cell_type": "markdown",
   "metadata": {},
   "source": [
    "### C. Learn more\n",
    "* https://www.mathsisfun.com/data/standard-deviation.html\n",
    "* https://youtu.be/s7WTQ0H0Acc"
   ]
  },
  {
   "cell_type": "code",
   "metadata": {
    "ExecuteTime": {
     "end_time": "2024-07-27T10:43:24.127746Z",
     "start_time": "2024-07-27T10:43:24.125669Z"
    }
   },
   "source": [],
   "outputs": [],
   "execution_count": 1417
  }
 ],
 "metadata": {
  "kernelspec": {
   "display_name": "Python 3 (ipykernel)",
   "language": "python",
   "name": "python3"
  },
  "language_info": {
   "codemirror_mode": {
    "name": "ipython",
    "version": 3
   },
   "file_extension": ".py",
   "mimetype": "text/x-python",
   "name": "python",
   "nbconvert_exporter": "python",
   "pygments_lexer": "ipython3",
   "version": "3.10.4"
  }
 },
 "nbformat": 4,
 "nbformat_minor": 4
}
