{
 "cells": [
  {
   "cell_type": "markdown",
   "metadata": {
    "tags": []
   },
   "source": [
    "# **Task P2**\n",
    "## Analyzing the Avocado Data\n",
    "##### This task uses the avocado dataset. The dataset contains historical data on avocado prices and sales volume in multiple U.S. markets. One of the columns in this dataset, Unnamed: 0, contains sequential numbers that are irrelevant to analyzing this data. Three of the other columns contain sales for PLU (price look-up) codes 4046, 4225, and 4770. These columns will not be used in this task. If you review the data, you’ll see that some of the regions overlap. For example, one of the regions is the entire U.S., and all of the other regions are parts of the U.S. Because of that, you would need to review this data carefully before determining the best way to analyze it. For the purposes of this task though, the overlapping regions won’t be taken into consideration.\n",
    "\n",
    "##### https://www.kaggle.com/neuromusic/avocado-prices\n",
    "\n",
    "<img src=\"avocado-logo.png\" alt=\"SIT112 Avocado!\" width=\"1800\" height=\"200\">\n"
   ]
  },
  {
   "cell_type": "markdown",
   "metadata": {},
   "source": [
    "### A. Instructions\n",
    "\n",
    "1. Complete this task without looking at the solution notebook. \n",
    "2. You can then look at the solution notebook and compare it against yours.\n",
    "3. Complete and submit the TaskCompletionReport form in PDF format using Ontrack. You can do this by the end of Week 12, but feedback will only be provided for submissions received by 11 AM of the due date.\n",
    "4. Do **not** include the solution (yours or the one provided to you) in your submission.\n",
    "5. The workshops are the primary venue for you to seek help if you need any clarification/assitance. The tutors are there to help you complete and submit the tasks. Please avoid emailing your code or screenshots to the tutors outside workshop hours. \n",
    "6. Consider using online resources such as ChatGPT to strenghten your undertanding of the task. \n",
    "\n",
    "Good luck :)"
   ]
  },
  {
   "cell_type": "markdown",
   "metadata": {},
   "source": [
    "### B. Write Python code that performs (answers) the following operations (questions) "
   ]
  },
  {
   "cell_type": "code",
   "metadata": {
    "ExecuteTime": {
     "end_time": "2024-07-26T14:08:10.096947Z",
     "start_time": "2024-07-26T14:08:09.556170Z"
    }
   },
   "source": [
    "# Import the pandas library and alias it as \"pd\"\n",
    "import pandas as pd"
   ],
   "outputs": [],
   "execution_count": 8
  },
  {
   "cell_type": "markdown",
   "metadata": {},
   "source": [
    "##### 1. Read the data from the CSV file into a DataFrame."
   ]
  },
  {
   "cell_type": "code",
   "metadata": {
    "ExecuteTime": {
     "end_time": "2024-07-26T14:08:12.309391Z",
     "start_time": "2024-07-26T14:08:12.263995Z"
    }
   },
   "source": [
    "# write your code here\n",
    "\n",
    "# Read the csv file 'avocado.csv' and store it in a variable called 'data'\n",
    "data = pd.read_csv('../avocado.csv')\n"
   ],
   "outputs": [],
   "execution_count": 9
  },
  {
   "cell_type": "markdown",
   "metadata": {},
   "source": [
    "##### 2. Display type, memory consumption, and null count information using the info() method."
   ]
  },
  {
   "cell_type": "code",
   "metadata": {
    "ExecuteTime": {
     "end_time": "2024-07-24T11:53:28.229404Z",
     "start_time": "2024-07-24T11:53:28.220367Z"
    }
   },
   "source": [
    "# write your code here\n",
    "data.info()"
   ],
   "outputs": [
    {
     "name": "stdout",
     "output_type": "stream",
     "text": [
      "<class 'pandas.core.frame.DataFrame'>\n",
      "RangeIndex: 18249 entries, 0 to 18248\n",
      "Data columns (total 14 columns):\n",
      " #   Column        Non-Null Count  Dtype  \n",
      "---  ------        --------------  -----  \n",
      " 0   Unnamed: 0    18249 non-null  int64  \n",
      " 1   Date          18249 non-null  object \n",
      " 2   AveragePrice  18249 non-null  float64\n",
      " 3   Total Volume  18249 non-null  float64\n",
      " 4   4046          18249 non-null  float64\n",
      " 5   4225          18249 non-null  float64\n",
      " 6   4770          18249 non-null  float64\n",
      " 7   Total Bags    18249 non-null  float64\n",
      " 8   Small Bags    18249 non-null  float64\n",
      " 9   Large Bags    18249 non-null  float64\n",
      " 10  XLarge Bags   18249 non-null  float64\n",
      " 11  type          18249 non-null  object \n",
      " 12  year          18249 non-null  int64  \n",
      " 13  region        18249 non-null  object \n",
      "dtypes: float64(9), int64(2), object(3)\n",
      "memory usage: 1.9+ MB\n"
     ]
    }
   ],
   "execution_count": 21
  },
  {
   "cell_type": "markdown",
   "metadata": {},
   "source": [
    "##### 3. Display the number of unique values in each column."
   ]
  },
  {
   "cell_type": "code",
   "metadata": {
    "ExecuteTime": {
     "end_time": "2024-07-26T14:08:14.813210Z",
     "start_time": "2024-07-26T14:08:14.785533Z"
    }
   },
   "source": [
    "# write your code here\n",
    "data.nunique()"
   ],
   "outputs": [
    {
     "data": {
      "text/plain": [
       "Unnamed: 0         53\n",
       "Date              169\n",
       "AveragePrice      259\n",
       "Total Volume    18237\n",
       "4046            17702\n",
       "4225            18103\n",
       "4770            12071\n",
       "Total Bags      18097\n",
       "Small Bags      17321\n",
       "Large Bags      15082\n",
       "XLarge Bags      5588\n",
       "type                2\n",
       "year                4\n",
       "region             54\n",
       "dtype: int64"
      ]
     },
     "execution_count": 10,
     "metadata": {},
     "output_type": "execute_result"
    }
   ],
   "execution_count": 10
  },
  {
   "cell_type": "markdown",
   "metadata": {},
   "source": [
    "##### 4. Display all the rows of data that JupyterLab displays by default."
   ]
  },
  {
   "cell_type": "code",
   "metadata": {
    "ExecuteTime": {
     "end_time": "2024-07-26T14:08:18.843681Z",
     "start_time": "2024-07-26T14:08:18.840998Z"
    }
   },
   "source": [
    "# write your code here\n",
    "display()"
   ],
   "outputs": [],
   "execution_count": 11
  },
  {
   "cell_type": "markdown",
   "metadata": {},
   "source": [
    "##### 5. Display the first and last five rows of data and the first and last four columns of data."
   ]
  },
  {
   "cell_type": "code",
   "metadata": {
    "ExecuteTime": {
     "end_time": "2024-07-26T14:06:12.231379Z",
     "start_time": "2024-07-26T14:06:12.228527Z"
    }
   },
   "source": "# write your code here\n",
   "outputs": [],
   "execution_count": 1
  },
  {
   "cell_type": "markdown",
   "metadata": {},
   "source": [
    "##### 6. Choose any three columns, access them with bracket notation, and display the first five rows of this data."
   ]
  },
  {
   "cell_type": "code",
   "metadata": {},
   "source": [
    "# write your code here\n"
   ],
   "outputs": [],
   "execution_count": null
  },
  {
   "cell_type": "markdown",
   "metadata": {},
   "source": [
    "##### 7. Select one column and access it with dot notation."
   ]
  },
  {
   "cell_type": "code",
   "metadata": {},
   "source": [
    "# write your code here\n"
   ],
   "outputs": [],
   "execution_count": null
  },
  {
   "cell_type": "markdown",
   "metadata": {},
   "source": [
    "##### 8. Multiply the Total Volume and AveragePrice columns, and store the result in a new column called EstimatedRevenue. Then, display the first five rows of this data to confirm that the column was added and has the correct values."
   ]
  },
  {
   "cell_type": "code",
   "metadata": {},
   "source": [
    "# write your code here\n"
   ],
   "outputs": [],
   "execution_count": null
  },
  {
   "cell_type": "markdown",
   "metadata": {},
   "source": [
    "##### 9. Create a DataFrame that’s grouped by region and type and that includes the average price for the grouped columns. Then, reset the index and display the first five rows."
   ]
  },
  {
   "cell_type": "code",
   "metadata": {
    "tags": []
   },
   "source": [
    "# write your code here\n"
   ],
   "outputs": [],
   "execution_count": null
  },
  {
   "cell_type": "markdown",
   "metadata": {},
   "source": [
    "##### 10. Create a bar plot that shows the mean, median, and standard deviation of the Total Volume column by year."
   ]
  },
  {
   "cell_type": "code",
   "metadata": {},
   "source": [
    "# write your code here\n"
   ],
   "outputs": [],
   "execution_count": null
  },
  {
   "cell_type": "markdown",
   "metadata": {},
   "source": [
    "##### 11. How many unique regions are there?"
   ]
  },
  {
   "cell_type": "code",
   "metadata": {},
   "source": [
    "# write your code here\n"
   ],
   "outputs": [],
   "execution_count": null
  },
  {
   "cell_type": "markdown",
   "metadata": {},
   "source": [
    "##### 12. What is the average price for each type of avocado (organic and conventional)? Be sure to include just the type and AveragePrice columns in the results."
   ]
  },
  {
   "cell_type": "code",
   "metadata": {},
   "source": [
    "# write your code here\n"
   ],
   "outputs": [],
   "execution_count": null
  },
  {
   "cell_type": "markdown",
   "metadata": {},
   "source": [
    "##### 13. Which region has the lowest average price for organic avocados? Hint: create wide data from the grouped data that you created in section B.9."
   ]
  },
  {
   "cell_type": "code",
   "metadata": {},
   "source": [
    "# write your code here\n",
    "\n",
    "# Group the data by region and type, calculate the mean AveragePrice,\n",
    "# and then pivot the table to show the AveragePrice by region and type. \n",
    "# then sort the table by organic AveragePrice in ascending order and\n",
    "# display the row with the lowest organic AveragePrice.\n"
   ],
   "outputs": [],
   "execution_count": null
  },
  {
   "cell_type": "markdown",
   "metadata": {},
   "source": [
    "##### 14. Have the Total Bags sold per year of each type of avocado become more or less consistent over time? \n",
    "\n",
    "#####  *Use the standard deviation (std), which is a statistical measure of how spread out the data is from the mean. In this case, using std to analyze the Total Bags sold per year of each type of avocado can help us understand how consistent the sales are over time: If the std is high, it means that the Total Bags sold per year vary widely from the mean and are not consistent. On the other hand, if the std is low, it means that the Total Bags sold per year are close to the mean and are consistent.*\n",
    "\n",
    "##### *Therefore, by calculating the std of Total Bags sold per year for each type of avocado, we can determine if the sales have become more or less consistent over time. If the std decreases over time, it means that the sales are becoming more consistent. If the std increases over time, it means that the sales are becoming less consistent.*"
   ]
  },
  {
   "cell_type": "code",
   "metadata": {},
   "source": [
    "# write your code here\n"
   ],
   "outputs": [],
   "execution_count": null
  },
  {
   "cell_type": "markdown",
   "metadata": {},
   "source": [
    "### C. Learn more\n",
    "* https://www.mathsisfun.com/data/standard-deviation.html\n",
    "* https://youtu.be/s7WTQ0H0Acc"
   ]
  },
  {
   "cell_type": "code",
   "metadata": {},
   "source": [],
   "outputs": [],
   "execution_count": null
  }
 ],
 "metadata": {
  "kernelspec": {
   "display_name": "Python 3 (ipykernel)",
   "language": "python",
   "name": "python3"
  },
  "language_info": {
   "codemirror_mode": {
    "name": "ipython",
    "version": 3
   },
   "file_extension": ".py",
   "mimetype": "text/x-python",
   "name": "python",
   "nbconvert_exporter": "python",
   "pygments_lexer": "ipython3",
   "version": "3.10.4"
  }
 },
 "nbformat": 4,
 "nbformat_minor": 4
}
